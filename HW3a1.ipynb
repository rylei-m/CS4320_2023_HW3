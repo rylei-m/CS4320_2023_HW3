{
 "cells": [
  {
   "cell_type": "markdown",
   "metadata": {
    "id": "987cEYEfDflg"
   },
   "source": [
    "# CS4320 - Introduction to Machine Learning \n",
    "\n",
    "## Homework 3: Preprocessing "
   ]
  },
  {
   "cell_type": "markdown",
   "metadata": {
    "id": "6eA1FspCF7p7"
   },
   "source": [
    "**Please type your name and A number here:**"
   ]
  },
  {
   "cell_type": "code",
   "execution_count": 1,
   "metadata": {
    "id": "qp9zRvYvF5Ak"
   },
   "outputs": [],
   "source": [
    "Name = \"Rylei Mindrum\"\n",
    "assert Name != \"\", 'Please enter your name in the above quotation marks, thanks!'\n",
    "\n",
    "A_number = \"A02352206\"\n",
    "assert A_number != \"\", 'Please enter your A-number in the above quotation marks, thanks!'"
   ]
  },
  {
   "cell_type": "markdown",
   "metadata": {
    "id": "CAIVbbCzDfli"
   },
   "source": [
    "## Imports "
   ]
  },
  {
   "cell_type": "code",
   "execution_count": 2,
   "metadata": {
    "id": "sGHZVwptDflj"
   },
   "outputs": [],
   "source": [
    "import matplotlib.pyplot as plt\n",
    "import numpy as np\n",
    "import pandas as pd\n",
    "from sklearn.compose import ColumnTransformer, make_column_transformer\n",
    "from sklearn.dummy import DummyClassifier\n",
    "from sklearn.impute import SimpleImputer\n",
    "from sklearn.model_selection import cross_val_score, cross_validate, train_test_split\n",
    "from sklearn.neighbors import KNeighborsClassifier\n",
    "from sklearn.pipeline import Pipeline, make_pipeline\n",
    "from sklearn.preprocessing import OneHotEncoder, StandardScaler, OrdinalEncoder, MinMaxScaler\n",
    "from sklearn.svm import SVC\n",
    "from sklearn.tree import DecisionTreeClassifier"
   ]
  },
  {
   "cell_type": "markdown",
   "metadata": {
    "id": "ObCtynnVDfll"
   },
   "source": [
    "## Exercise 1: Introducing the dataset <a name=\"1\"></a>\n",
    "<hr>\n",
    "\n",
    "In this lab, you will be working on [the adult census dataset](https://www.kaggle.com/uciml/adult-census-income#). Download the CSV and save it as `adult.csv` locally in this homework folder. \n",
    "\n",
    "This is a classification dataset and the classification task is to predict whether income exceeds 50K per year or not based on the census data. You can find more information on the dataset and features [here](http://archive.ics.uci.edu/ml/datasets/Adult).\n",
    "\n",
    "The starter code below loads the data CSV (assuming that it is saved as `adult.csv` in this folder). \n",
    "\n",
    "_Note that many popular datasets have sex as a feature where the possible values are male and female. This representation reflects how the data were collected and is not meant to imply that, for example, gender is binary._"
   ]
  },
  {
   "cell_type": "code",
   "execution_count": 3,
   "metadata": {
    "colab": {
     "base_uri": "https://localhost:8080/"
    },
    "id": "SFhfYaz1Dfll",
    "outputId": "2fdb1607-4006-4b2c-bb06-0ab1c1af8c79"
   },
   "outputs": [
    {
     "name": "stdout",
     "output_type": "stream",
     "text": [
      "       age workclass  fnlwgt     education  education.num      marital.status  \\\n",
      "0       90         ?   77053       HS-grad              9             Widowed   \n",
      "1       82   Private  132870       HS-grad              9             Widowed   \n",
      "2       66         ?  186061  Some-college             10             Widowed   \n",
      "3       54   Private  140359       7th-8th              4            Divorced   \n",
      "4       41   Private  264663  Some-college             10           Separated   \n",
      "...    ...       ...     ...           ...            ...                 ...   \n",
      "32556   22   Private  310152  Some-college             10       Never-married   \n",
      "32557   27   Private  257302    Assoc-acdm             12  Married-civ-spouse   \n",
      "32558   40   Private  154374       HS-grad              9  Married-civ-spouse   \n",
      "32559   58   Private  151910       HS-grad              9             Widowed   \n",
      "32560   22   Private  201490       HS-grad              9       Never-married   \n",
      "\n",
      "              occupation   relationship   race     sex  capital.gain  \\\n",
      "0                      ?  Not-in-family  White  Female             0   \n",
      "1        Exec-managerial  Not-in-family  White  Female             0   \n",
      "2                      ?      Unmarried  Black  Female             0   \n",
      "3      Machine-op-inspct      Unmarried  White  Female             0   \n",
      "4         Prof-specialty      Own-child  White  Female             0   \n",
      "...                  ...            ...    ...     ...           ...   \n",
      "32556    Protective-serv  Not-in-family  White    Male             0   \n",
      "32557       Tech-support           Wife  White  Female             0   \n",
      "32558  Machine-op-inspct        Husband  White    Male             0   \n",
      "32559       Adm-clerical      Unmarried  White  Female             0   \n",
      "32560       Adm-clerical      Own-child  White    Male             0   \n",
      "\n",
      "       capital.loss  hours.per.week native.country income  \n",
      "0              4356              40  United-States  <=50K  \n",
      "1              4356              18  United-States  <=50K  \n",
      "2              4356              40  United-States  <=50K  \n",
      "3              3900              40  United-States  <=50K  \n",
      "4              3900              40  United-States  <=50K  \n",
      "...             ...             ...            ...    ...  \n",
      "32556             0              40  United-States  <=50K  \n",
      "32557             0              38  United-States  <=50K  \n",
      "32558             0              40  United-States   >50K  \n",
      "32559             0              40  United-States  <=50K  \n",
      "32560             0              20  United-States  <=50K  \n",
      "\n",
      "[32561 rows x 15 columns]\n"
     ]
    }
   ],
   "source": [
    "census_df = pd.read_csv(\"adult.csv\")\n",
    "census_df.shape\n",
    "print(census_df)"
   ]
  },
  {
   "cell_type": "markdown",
   "metadata": {
    "id": "467osGJtDflm"
   },
   "source": [
    "### 1. Data splitting\n",
    "rubric={points:4}\n",
    "\n",
    "In order to avoid violation of the golden rule, the first step before we do anything is splitting the data. \n",
    "\n",
    "**Your tasks:**\n",
    "\n",
    "  Split the data into `train_df` (50%) and `test_df` (50%) with `random_state = 10`. Keep the target column (`income`) in the splits so that we can use it in the exploratory data analysis.\n",
    "\n",
    "(_Usually having more data for training is a good idea. But here I'm using 50%/50% split because this is kind of a big dataset for a modest laptop. A smaller training data means it won't take too long to train the model on your laptop. A side advantage of this would be that with a bigger test split, we'll have a more reliable estimate of the deployment performance!_)"
   ]
  },
  {
   "cell_type": "code",
   "execution_count": 4,
   "metadata": {
    "id": "xVYJ0r2CDflm"
   },
   "outputs": [
    {
     "name": "stdout",
     "output_type": "stream",
     "text": [
      "       age         workclass  fnlwgt     education  education.num  \\\n",
      "27978   23  Self-emp-not-inc  111296          11th              7   \n",
      "3853    75           Private  104896       HS-grad              9   \n",
      "12294   52           Private  256916       HS-grad              9   \n",
      "10017   18                 ?  387641  Some-college             10   \n",
      "27073   27         Local-gov  332785       HS-grad              9   \n",
      "...    ...               ...     ...           ...            ...   \n",
      "28017   31           Private  227886  Some-college             10   \n",
      "17728   23                 ?  169104    Assoc-acdm             12   \n",
      "29199   38         Local-gov  282753     Assoc-voc             11   \n",
      "7293    47           Private  357848       HS-grad              9   \n",
      "17673   31           Private   25216     Bachelors             13   \n",
      "\n",
      "           marital.status       occupation relationship                race  \\\n",
      "27978       Never-married     Craft-repair    Own-child               White   \n",
      "3853   Married-civ-spouse            Sales      Husband               White   \n",
      "12294  Married-civ-spouse  Exec-managerial      Husband               White   \n",
      "10017       Never-married                ?    Own-child               White   \n",
      "27073       Never-married  Protective-serv    Own-child               White   \n",
      "...                   ...              ...          ...                 ...   \n",
      "28017       Never-married     Adm-clerical    Unmarried               Black   \n",
      "17728       Never-married                ?    Own-child  Asian-Pac-Islander   \n",
      "29199            Divorced  Exec-managerial    Own-child               White   \n",
      "7293   Married-civ-spouse     Craft-repair      Husband               White   \n",
      "17673            Divorced  Exec-managerial    Unmarried               White   \n",
      "\n",
      "          sex  capital.gain  capital.loss  hours.per.week native.country  \\\n",
      "27978    Male             0             0              50         Mexico   \n",
      "3853     Male          2653             0              20  United-States   \n",
      "12294    Male             0             0              40  United-States   \n",
      "10017    Male             0             0              40  United-States   \n",
      "27073    Male             0             0              38  United-States   \n",
      "...       ...           ...           ...             ...            ...   \n",
      "28017  Female             0             0              35  United-States   \n",
      "17728    Male             0             0              16    Philippines   \n",
      "29199    Male             0             0              40  United-States   \n",
      "7293     Male             0             0              40  United-States   \n",
      "17673  Female             0             0              40  United-States   \n",
      "\n",
      "      income  \n",
      "27978  <=50K  \n",
      "3853   <=50K  \n",
      "12294  <=50K  \n",
      "10017  <=50K  \n",
      "27073  <=50K  \n",
      "...      ...  \n",
      "28017  <=50K  \n",
      "17728  <=50K  \n",
      "29199  <=50K  \n",
      "7293    >50K  \n",
      "17673  <=50K  \n",
      "\n",
      "[16280 rows x 15 columns]\n",
      "       age  workclass  fnlwgt     education  education.num  \\\n",
      "11358   22    Private  188950  Some-college             10   \n",
      "10859   44    Private  125461       Masters             14   \n",
      "30948   27  Local-gov  255237     Bachelors             13   \n",
      "29811   54    Private  141663       HS-grad              9   \n",
      "18408   56    Private   70720          12th              8   \n",
      "...    ...        ...     ...           ...            ...   \n",
      "22772   38  State-gov  203628     Bachelors             13   \n",
      "5236    20    Private  275691       HS-grad              9   \n",
      "17453   40    Private  222011       Masters             14   \n",
      "19446   62    Private  186696       HS-grad              9   \n",
      "1200    46    Private   85109  Some-college             10   \n",
      "\n",
      "           marital.status         occupation   relationship   race     sex  \\\n",
      "11358       Never-married       Tech-support      Own-child  White    Male   \n",
      "10859  Married-civ-spouse    Exec-managerial        Husband  White    Male   \n",
      "30948       Never-married     Prof-specialty  Not-in-family  White  Female   \n",
      "29811       Never-married      Other-service  Not-in-family  White    Male   \n",
      "18408  Married-civ-spouse     Prof-specialty        Husband  White    Male   \n",
      "...                   ...                ...            ...    ...     ...   \n",
      "22772  Married-civ-spouse     Prof-specialty        Husband  White    Male   \n",
      "5236        Never-married  Handlers-cleaners      Own-child  White    Male   \n",
      "17453       Never-married     Prof-specialty  Not-in-family  White  Female   \n",
      "19446  Married-civ-spouse       Craft-repair        Husband  White    Male   \n",
      "1200   Married-civ-spouse  Machine-op-inspct        Husband  White    Male   \n",
      "\n",
      "       capital.gain  capital.loss  hours.per.week native.country income  \n",
      "11358             0             0              40  United-States  <=50K  \n",
      "10859             0             0              35  United-States   >50K  \n",
      "30948             0             0              40  United-States  <=50K  \n",
      "29811             0             0              15  United-States  <=50K  \n",
      "18408             0             0              40  United-States   >50K  \n",
      "...             ...           ...             ...            ...    ...  \n",
      "22772             0             0              45  United-States   >50K  \n",
      "5236              0             0              28  United-States  <=50K  \n",
      "17453             0             0              45  United-States   >50K  \n",
      "19446             0             0              40  United-States  <=50K  \n",
      "1200              0          1628              40  United-States  <=50K  \n",
      "\n",
      "[16281 rows x 15 columns]\n"
     ]
    }
   ],
   "source": [
    "# Insert your code here:\n",
    "train_df, test_df = train_test_split(census_df, test_size=0.5, random_state=10)\n",
    "print(train_df)\n",
    "print(test_df)"
   ]
  },
  {
   "cell_type": "markdown",
   "metadata": {
    "id": "rIAvCSxdDfln"
   },
   "source": [
    "## Exercise 2: Exploratory data analysis (EDA) <a name=\"2\"></a> \n",
    "<hr>"
   ]
  },
  {
   "cell_type": "markdown",
   "metadata": {
    "id": "t8D25Gr1Dfln"
   },
   "source": [
    "Let's examine our `train_df`. "
   ]
  },
  {
   "cell_type": "code",
   "execution_count": 5,
   "metadata": {
    "id": "tlw11UnBDfln"
   },
   "outputs": [
    {
     "data": {
      "text/html": [
       "<div>\n",
       "<style scoped>\n",
       "    .dataframe tbody tr th:only-of-type {\n",
       "        vertical-align: middle;\n",
       "    }\n",
       "\n",
       "    .dataframe tbody tr th {\n",
       "        vertical-align: top;\n",
       "    }\n",
       "\n",
       "    .dataframe thead th {\n",
       "        text-align: right;\n",
       "    }\n",
       "</style>\n",
       "<table border=\"1\" class=\"dataframe\">\n",
       "  <thead>\n",
       "    <tr style=\"text-align: right;\">\n",
       "      <th></th>\n",
       "      <th>age</th>\n",
       "      <th>workclass</th>\n",
       "      <th>fnlwgt</th>\n",
       "      <th>education</th>\n",
       "      <th>education.num</th>\n",
       "      <th>marital.status</th>\n",
       "      <th>occupation</th>\n",
       "      <th>relationship</th>\n",
       "      <th>race</th>\n",
       "      <th>sex</th>\n",
       "      <th>capital.gain</th>\n",
       "      <th>capital.loss</th>\n",
       "      <th>hours.per.week</th>\n",
       "      <th>native.country</th>\n",
       "      <th>income</th>\n",
       "    </tr>\n",
       "  </thead>\n",
       "  <tbody>\n",
       "    <tr>\n",
       "      <th>1</th>\n",
       "      <td>82</td>\n",
       "      <td>Private</td>\n",
       "      <td>132870</td>\n",
       "      <td>HS-grad</td>\n",
       "      <td>9</td>\n",
       "      <td>Widowed</td>\n",
       "      <td>Exec-managerial</td>\n",
       "      <td>Not-in-family</td>\n",
       "      <td>White</td>\n",
       "      <td>Female</td>\n",
       "      <td>0</td>\n",
       "      <td>4356</td>\n",
       "      <td>18</td>\n",
       "      <td>United-States</td>\n",
       "      <td>&lt;=50K</td>\n",
       "    </tr>\n",
       "    <tr>\n",
       "      <th>2</th>\n",
       "      <td>66</td>\n",
       "      <td>?</td>\n",
       "      <td>186061</td>\n",
       "      <td>Some-college</td>\n",
       "      <td>10</td>\n",
       "      <td>Widowed</td>\n",
       "      <td>?</td>\n",
       "      <td>Unmarried</td>\n",
       "      <td>Black</td>\n",
       "      <td>Female</td>\n",
       "      <td>0</td>\n",
       "      <td>4356</td>\n",
       "      <td>40</td>\n",
       "      <td>United-States</td>\n",
       "      <td>&lt;=50K</td>\n",
       "    </tr>\n",
       "    <tr>\n",
       "      <th>3</th>\n",
       "      <td>54</td>\n",
       "      <td>Private</td>\n",
       "      <td>140359</td>\n",
       "      <td>7th-8th</td>\n",
       "      <td>4</td>\n",
       "      <td>Divorced</td>\n",
       "      <td>Machine-op-inspct</td>\n",
       "      <td>Unmarried</td>\n",
       "      <td>White</td>\n",
       "      <td>Female</td>\n",
       "      <td>0</td>\n",
       "      <td>3900</td>\n",
       "      <td>40</td>\n",
       "      <td>United-States</td>\n",
       "      <td>&lt;=50K</td>\n",
       "    </tr>\n",
       "    <tr>\n",
       "      <th>4</th>\n",
       "      <td>41</td>\n",
       "      <td>Private</td>\n",
       "      <td>264663</td>\n",
       "      <td>Some-college</td>\n",
       "      <td>10</td>\n",
       "      <td>Separated</td>\n",
       "      <td>Prof-specialty</td>\n",
       "      <td>Own-child</td>\n",
       "      <td>White</td>\n",
       "      <td>Female</td>\n",
       "      <td>0</td>\n",
       "      <td>3900</td>\n",
       "      <td>40</td>\n",
       "      <td>United-States</td>\n",
       "      <td>&lt;=50K</td>\n",
       "    </tr>\n",
       "    <tr>\n",
       "      <th>6</th>\n",
       "      <td>38</td>\n",
       "      <td>Private</td>\n",
       "      <td>150601</td>\n",
       "      <td>10th</td>\n",
       "      <td>6</td>\n",
       "      <td>Separated</td>\n",
       "      <td>Adm-clerical</td>\n",
       "      <td>Unmarried</td>\n",
       "      <td>White</td>\n",
       "      <td>Male</td>\n",
       "      <td>0</td>\n",
       "      <td>3770</td>\n",
       "      <td>40</td>\n",
       "      <td>United-States</td>\n",
       "      <td>&lt;=50K</td>\n",
       "    </tr>\n",
       "    <tr>\n",
       "      <th>...</th>\n",
       "      <td>...</td>\n",
       "      <td>...</td>\n",
       "      <td>...</td>\n",
       "      <td>...</td>\n",
       "      <td>...</td>\n",
       "      <td>...</td>\n",
       "      <td>...</td>\n",
       "      <td>...</td>\n",
       "      <td>...</td>\n",
       "      <td>...</td>\n",
       "      <td>...</td>\n",
       "      <td>...</td>\n",
       "      <td>...</td>\n",
       "      <td>...</td>\n",
       "      <td>...</td>\n",
       "    </tr>\n",
       "    <tr>\n",
       "      <th>32544</th>\n",
       "      <td>72</td>\n",
       "      <td>?</td>\n",
       "      <td>129912</td>\n",
       "      <td>HS-grad</td>\n",
       "      <td>9</td>\n",
       "      <td>Married-civ-spouse</td>\n",
       "      <td>?</td>\n",
       "      <td>Husband</td>\n",
       "      <td>White</td>\n",
       "      <td>Male</td>\n",
       "      <td>0</td>\n",
       "      <td>0</td>\n",
       "      <td>25</td>\n",
       "      <td>United-States</td>\n",
       "      <td>&lt;=50K</td>\n",
       "    </tr>\n",
       "    <tr>\n",
       "      <th>32545</th>\n",
       "      <td>45</td>\n",
       "      <td>Local-gov</td>\n",
       "      <td>119199</td>\n",
       "      <td>Assoc-acdm</td>\n",
       "      <td>12</td>\n",
       "      <td>Divorced</td>\n",
       "      <td>Prof-specialty</td>\n",
       "      <td>Unmarried</td>\n",
       "      <td>White</td>\n",
       "      <td>Female</td>\n",
       "      <td>0</td>\n",
       "      <td>0</td>\n",
       "      <td>48</td>\n",
       "      <td>United-States</td>\n",
       "      <td>&lt;=50K</td>\n",
       "    </tr>\n",
       "    <tr>\n",
       "      <th>32547</th>\n",
       "      <td>39</td>\n",
       "      <td>Local-gov</td>\n",
       "      <td>111499</td>\n",
       "      <td>Assoc-acdm</td>\n",
       "      <td>12</td>\n",
       "      <td>Married-civ-spouse</td>\n",
       "      <td>Adm-clerical</td>\n",
       "      <td>Wife</td>\n",
       "      <td>White</td>\n",
       "      <td>Female</td>\n",
       "      <td>0</td>\n",
       "      <td>0</td>\n",
       "      <td>20</td>\n",
       "      <td>United-States</td>\n",
       "      <td>&gt;50K</td>\n",
       "    </tr>\n",
       "    <tr>\n",
       "      <th>32551</th>\n",
       "      <td>43</td>\n",
       "      <td>Self-emp-not-inc</td>\n",
       "      <td>27242</td>\n",
       "      <td>Some-college</td>\n",
       "      <td>10</td>\n",
       "      <td>Married-civ-spouse</td>\n",
       "      <td>Craft-repair</td>\n",
       "      <td>Husband</td>\n",
       "      <td>White</td>\n",
       "      <td>Male</td>\n",
       "      <td>0</td>\n",
       "      <td>0</td>\n",
       "      <td>50</td>\n",
       "      <td>United-States</td>\n",
       "      <td>&lt;=50K</td>\n",
       "    </tr>\n",
       "    <tr>\n",
       "      <th>32554</th>\n",
       "      <td>32</td>\n",
       "      <td>Private</td>\n",
       "      <td>116138</td>\n",
       "      <td>Masters</td>\n",
       "      <td>14</td>\n",
       "      <td>Never-married</td>\n",
       "      <td>Tech-support</td>\n",
       "      <td>Not-in-family</td>\n",
       "      <td>Asian-Pac-Islander</td>\n",
       "      <td>Male</td>\n",
       "      <td>0</td>\n",
       "      <td>0</td>\n",
       "      <td>11</td>\n",
       "      <td>Taiwan</td>\n",
       "      <td>&lt;=50K</td>\n",
       "    </tr>\n",
       "  </tbody>\n",
       "</table>\n",
       "<p>16280 rows × 15 columns</p>\n",
       "</div>"
      ],
      "text/plain": [
       "       age         workclass  fnlwgt     education  education.num  \\\n",
       "1       82           Private  132870       HS-grad              9   \n",
       "2       66                 ?  186061  Some-college             10   \n",
       "3       54           Private  140359       7th-8th              4   \n",
       "4       41           Private  264663  Some-college             10   \n",
       "6       38           Private  150601          10th              6   \n",
       "...    ...               ...     ...           ...            ...   \n",
       "32544   72                 ?  129912       HS-grad              9   \n",
       "32545   45         Local-gov  119199    Assoc-acdm             12   \n",
       "32547   39         Local-gov  111499    Assoc-acdm             12   \n",
       "32551   43  Self-emp-not-inc   27242  Some-college             10   \n",
       "32554   32           Private  116138       Masters             14   \n",
       "\n",
       "           marital.status         occupation   relationship  \\\n",
       "1                 Widowed    Exec-managerial  Not-in-family   \n",
       "2                 Widowed                  ?      Unmarried   \n",
       "3                Divorced  Machine-op-inspct      Unmarried   \n",
       "4               Separated     Prof-specialty      Own-child   \n",
       "6               Separated       Adm-clerical      Unmarried   \n",
       "...                   ...                ...            ...   \n",
       "32544  Married-civ-spouse                  ?        Husband   \n",
       "32545            Divorced     Prof-specialty      Unmarried   \n",
       "32547  Married-civ-spouse       Adm-clerical           Wife   \n",
       "32551  Married-civ-spouse       Craft-repair        Husband   \n",
       "32554       Never-married       Tech-support  Not-in-family   \n",
       "\n",
       "                     race     sex  capital.gain  capital.loss  hours.per.week  \\\n",
       "1                   White  Female             0          4356              18   \n",
       "2                   Black  Female             0          4356              40   \n",
       "3                   White  Female             0          3900              40   \n",
       "4                   White  Female             0          3900              40   \n",
       "6                   White    Male             0          3770              40   \n",
       "...                   ...     ...           ...           ...             ...   \n",
       "32544               White    Male             0             0              25   \n",
       "32545               White  Female             0             0              48   \n",
       "32547               White  Female             0             0              20   \n",
       "32551               White    Male             0             0              50   \n",
       "32554  Asian-Pac-Islander    Male             0             0              11   \n",
       "\n",
       "      native.country income  \n",
       "1      United-States  <=50K  \n",
       "2      United-States  <=50K  \n",
       "3      United-States  <=50K  \n",
       "4      United-States  <=50K  \n",
       "6      United-States  <=50K  \n",
       "...              ...    ...  \n",
       "32544  United-States  <=50K  \n",
       "32545  United-States  <=50K  \n",
       "32547  United-States   >50K  \n",
       "32551  United-States  <=50K  \n",
       "32554         Taiwan  <=50K  \n",
       "\n",
       "[16280 rows x 15 columns]"
      ]
     },
     "execution_count": 5,
     "metadata": {},
     "output_type": "execute_result"
    }
   ],
   "source": [
    "train_df.sort_index()"
   ]
  },
  {
   "cell_type": "markdown",
   "metadata": {
    "id": "DQngHGTFDfln"
   },
   "source": [
    "We see some missing values represented with a \"?\". Probably these were the questions not answered by some people during the census.  Usually `.describe()` or `.info()` methods would give you information on missing values. But here, they won't pick \"?\" as missing values as they are encoded as strings instead of an actual NaN in Python. So let's replace them with `np.nan` before we carry out EDA. If you do not do it, you'll encounter an error later on when you try to pass this data to a classifier. "
   ]
  },
  {
   "cell_type": "code",
   "execution_count": 6,
   "metadata": {
    "colab": {
     "base_uri": "https://localhost:8080/"
    },
    "id": "O0ipQjwcDfln",
    "outputId": "c2afe1d8-07f5-45c3-cc05-3b30823ed31c"
   },
   "outputs": [
    {
     "data": {
      "text/plain": [
       "(16280, 15)"
      ]
     },
     "execution_count": 6,
     "metadata": {},
     "output_type": "execute_result"
    }
   ],
   "source": [
    "train_df_nan = train_df.replace(\"?\", np.nan)\n",
    "test_df_nan = test_df.replace(\"?\", np.nan)\n",
    "train_df_nan.shape"
   ]
  },
  {
   "cell_type": "code",
   "execution_count": 7,
   "metadata": {
    "id": "r4VaOJj3Dflo"
   },
   "outputs": [
    {
     "data": {
      "text/html": [
       "<div>\n",
       "<style scoped>\n",
       "    .dataframe tbody tr th:only-of-type {\n",
       "        vertical-align: middle;\n",
       "    }\n",
       "\n",
       "    .dataframe tbody tr th {\n",
       "        vertical-align: top;\n",
       "    }\n",
       "\n",
       "    .dataframe thead th {\n",
       "        text-align: right;\n",
       "    }\n",
       "</style>\n",
       "<table border=\"1\" class=\"dataframe\">\n",
       "  <thead>\n",
       "    <tr style=\"text-align: right;\">\n",
       "      <th></th>\n",
       "      <th>age</th>\n",
       "      <th>workclass</th>\n",
       "      <th>fnlwgt</th>\n",
       "      <th>education</th>\n",
       "      <th>education.num</th>\n",
       "      <th>marital.status</th>\n",
       "      <th>occupation</th>\n",
       "      <th>relationship</th>\n",
       "      <th>race</th>\n",
       "      <th>sex</th>\n",
       "      <th>capital.gain</th>\n",
       "      <th>capital.loss</th>\n",
       "      <th>hours.per.week</th>\n",
       "      <th>native.country</th>\n",
       "      <th>income</th>\n",
       "    </tr>\n",
       "  </thead>\n",
       "  <tbody>\n",
       "    <tr>\n",
       "      <th>1</th>\n",
       "      <td>82</td>\n",
       "      <td>Private</td>\n",
       "      <td>132870</td>\n",
       "      <td>HS-grad</td>\n",
       "      <td>9</td>\n",
       "      <td>Widowed</td>\n",
       "      <td>Exec-managerial</td>\n",
       "      <td>Not-in-family</td>\n",
       "      <td>White</td>\n",
       "      <td>Female</td>\n",
       "      <td>0</td>\n",
       "      <td>4356</td>\n",
       "      <td>18</td>\n",
       "      <td>United-States</td>\n",
       "      <td>&lt;=50K</td>\n",
       "    </tr>\n",
       "    <tr>\n",
       "      <th>2</th>\n",
       "      <td>66</td>\n",
       "      <td>NaN</td>\n",
       "      <td>186061</td>\n",
       "      <td>Some-college</td>\n",
       "      <td>10</td>\n",
       "      <td>Widowed</td>\n",
       "      <td>NaN</td>\n",
       "      <td>Unmarried</td>\n",
       "      <td>Black</td>\n",
       "      <td>Female</td>\n",
       "      <td>0</td>\n",
       "      <td>4356</td>\n",
       "      <td>40</td>\n",
       "      <td>United-States</td>\n",
       "      <td>&lt;=50K</td>\n",
       "    </tr>\n",
       "    <tr>\n",
       "      <th>3</th>\n",
       "      <td>54</td>\n",
       "      <td>Private</td>\n",
       "      <td>140359</td>\n",
       "      <td>7th-8th</td>\n",
       "      <td>4</td>\n",
       "      <td>Divorced</td>\n",
       "      <td>Machine-op-inspct</td>\n",
       "      <td>Unmarried</td>\n",
       "      <td>White</td>\n",
       "      <td>Female</td>\n",
       "      <td>0</td>\n",
       "      <td>3900</td>\n",
       "      <td>40</td>\n",
       "      <td>United-States</td>\n",
       "      <td>&lt;=50K</td>\n",
       "    </tr>\n",
       "    <tr>\n",
       "      <th>4</th>\n",
       "      <td>41</td>\n",
       "      <td>Private</td>\n",
       "      <td>264663</td>\n",
       "      <td>Some-college</td>\n",
       "      <td>10</td>\n",
       "      <td>Separated</td>\n",
       "      <td>Prof-specialty</td>\n",
       "      <td>Own-child</td>\n",
       "      <td>White</td>\n",
       "      <td>Female</td>\n",
       "      <td>0</td>\n",
       "      <td>3900</td>\n",
       "      <td>40</td>\n",
       "      <td>United-States</td>\n",
       "      <td>&lt;=50K</td>\n",
       "    </tr>\n",
       "    <tr>\n",
       "      <th>6</th>\n",
       "      <td>38</td>\n",
       "      <td>Private</td>\n",
       "      <td>150601</td>\n",
       "      <td>10th</td>\n",
       "      <td>6</td>\n",
       "      <td>Separated</td>\n",
       "      <td>Adm-clerical</td>\n",
       "      <td>Unmarried</td>\n",
       "      <td>White</td>\n",
       "      <td>Male</td>\n",
       "      <td>0</td>\n",
       "      <td>3770</td>\n",
       "      <td>40</td>\n",
       "      <td>United-States</td>\n",
       "      <td>&lt;=50K</td>\n",
       "    </tr>\n",
       "    <tr>\n",
       "      <th>...</th>\n",
       "      <td>...</td>\n",
       "      <td>...</td>\n",
       "      <td>...</td>\n",
       "      <td>...</td>\n",
       "      <td>...</td>\n",
       "      <td>...</td>\n",
       "      <td>...</td>\n",
       "      <td>...</td>\n",
       "      <td>...</td>\n",
       "      <td>...</td>\n",
       "      <td>...</td>\n",
       "      <td>...</td>\n",
       "      <td>...</td>\n",
       "      <td>...</td>\n",
       "      <td>...</td>\n",
       "    </tr>\n",
       "    <tr>\n",
       "      <th>32544</th>\n",
       "      <td>72</td>\n",
       "      <td>NaN</td>\n",
       "      <td>129912</td>\n",
       "      <td>HS-grad</td>\n",
       "      <td>9</td>\n",
       "      <td>Married-civ-spouse</td>\n",
       "      <td>NaN</td>\n",
       "      <td>Husband</td>\n",
       "      <td>White</td>\n",
       "      <td>Male</td>\n",
       "      <td>0</td>\n",
       "      <td>0</td>\n",
       "      <td>25</td>\n",
       "      <td>United-States</td>\n",
       "      <td>&lt;=50K</td>\n",
       "    </tr>\n",
       "    <tr>\n",
       "      <th>32545</th>\n",
       "      <td>45</td>\n",
       "      <td>Local-gov</td>\n",
       "      <td>119199</td>\n",
       "      <td>Assoc-acdm</td>\n",
       "      <td>12</td>\n",
       "      <td>Divorced</td>\n",
       "      <td>Prof-specialty</td>\n",
       "      <td>Unmarried</td>\n",
       "      <td>White</td>\n",
       "      <td>Female</td>\n",
       "      <td>0</td>\n",
       "      <td>0</td>\n",
       "      <td>48</td>\n",
       "      <td>United-States</td>\n",
       "      <td>&lt;=50K</td>\n",
       "    </tr>\n",
       "    <tr>\n",
       "      <th>32547</th>\n",
       "      <td>39</td>\n",
       "      <td>Local-gov</td>\n",
       "      <td>111499</td>\n",
       "      <td>Assoc-acdm</td>\n",
       "      <td>12</td>\n",
       "      <td>Married-civ-spouse</td>\n",
       "      <td>Adm-clerical</td>\n",
       "      <td>Wife</td>\n",
       "      <td>White</td>\n",
       "      <td>Female</td>\n",
       "      <td>0</td>\n",
       "      <td>0</td>\n",
       "      <td>20</td>\n",
       "      <td>United-States</td>\n",
       "      <td>&gt;50K</td>\n",
       "    </tr>\n",
       "    <tr>\n",
       "      <th>32551</th>\n",
       "      <td>43</td>\n",
       "      <td>Self-emp-not-inc</td>\n",
       "      <td>27242</td>\n",
       "      <td>Some-college</td>\n",
       "      <td>10</td>\n",
       "      <td>Married-civ-spouse</td>\n",
       "      <td>Craft-repair</td>\n",
       "      <td>Husband</td>\n",
       "      <td>White</td>\n",
       "      <td>Male</td>\n",
       "      <td>0</td>\n",
       "      <td>0</td>\n",
       "      <td>50</td>\n",
       "      <td>United-States</td>\n",
       "      <td>&lt;=50K</td>\n",
       "    </tr>\n",
       "    <tr>\n",
       "      <th>32554</th>\n",
       "      <td>32</td>\n",
       "      <td>Private</td>\n",
       "      <td>116138</td>\n",
       "      <td>Masters</td>\n",
       "      <td>14</td>\n",
       "      <td>Never-married</td>\n",
       "      <td>Tech-support</td>\n",
       "      <td>Not-in-family</td>\n",
       "      <td>Asian-Pac-Islander</td>\n",
       "      <td>Male</td>\n",
       "      <td>0</td>\n",
       "      <td>0</td>\n",
       "      <td>11</td>\n",
       "      <td>Taiwan</td>\n",
       "      <td>&lt;=50K</td>\n",
       "    </tr>\n",
       "  </tbody>\n",
       "</table>\n",
       "<p>16280 rows × 15 columns</p>\n",
       "</div>"
      ],
      "text/plain": [
       "       age         workclass  fnlwgt     education  education.num  \\\n",
       "1       82           Private  132870       HS-grad              9   \n",
       "2       66               NaN  186061  Some-college             10   \n",
       "3       54           Private  140359       7th-8th              4   \n",
       "4       41           Private  264663  Some-college             10   \n",
       "6       38           Private  150601          10th              6   \n",
       "...    ...               ...     ...           ...            ...   \n",
       "32544   72               NaN  129912       HS-grad              9   \n",
       "32545   45         Local-gov  119199    Assoc-acdm             12   \n",
       "32547   39         Local-gov  111499    Assoc-acdm             12   \n",
       "32551   43  Self-emp-not-inc   27242  Some-college             10   \n",
       "32554   32           Private  116138       Masters             14   \n",
       "\n",
       "           marital.status         occupation   relationship  \\\n",
       "1                 Widowed    Exec-managerial  Not-in-family   \n",
       "2                 Widowed                NaN      Unmarried   \n",
       "3                Divorced  Machine-op-inspct      Unmarried   \n",
       "4               Separated     Prof-specialty      Own-child   \n",
       "6               Separated       Adm-clerical      Unmarried   \n",
       "...                   ...                ...            ...   \n",
       "32544  Married-civ-spouse                NaN        Husband   \n",
       "32545            Divorced     Prof-specialty      Unmarried   \n",
       "32547  Married-civ-spouse       Adm-clerical           Wife   \n",
       "32551  Married-civ-spouse       Craft-repair        Husband   \n",
       "32554       Never-married       Tech-support  Not-in-family   \n",
       "\n",
       "                     race     sex  capital.gain  capital.loss  hours.per.week  \\\n",
       "1                   White  Female             0          4356              18   \n",
       "2                   Black  Female             0          4356              40   \n",
       "3                   White  Female             0          3900              40   \n",
       "4                   White  Female             0          3900              40   \n",
       "6                   White    Male             0          3770              40   \n",
       "...                   ...     ...           ...           ...             ...   \n",
       "32544               White    Male             0             0              25   \n",
       "32545               White  Female             0             0              48   \n",
       "32547               White  Female             0             0              20   \n",
       "32551               White    Male             0             0              50   \n",
       "32554  Asian-Pac-Islander    Male             0             0              11   \n",
       "\n",
       "      native.country income  \n",
       "1      United-States  <=50K  \n",
       "2      United-States  <=50K  \n",
       "3      United-States  <=50K  \n",
       "4      United-States  <=50K  \n",
       "6      United-States  <=50K  \n",
       "...              ...    ...  \n",
       "32544  United-States  <=50K  \n",
       "32545  United-States  <=50K  \n",
       "32547  United-States   >50K  \n",
       "32551  United-States  <=50K  \n",
       "32554         Taiwan  <=50K  \n",
       "\n",
       "[16280 rows x 15 columns]"
      ]
     },
     "execution_count": 7,
     "metadata": {},
     "output_type": "execute_result"
    }
   ],
   "source": [
    "train_df_nan.sort_index() # The \"?\" symbols are now replaced with NaN values. "
   ]
  },
  {
   "cell_type": "raw",
   "metadata": {
    "id": "vRerBd-8Dflo"
   },
   "source": [
    "### 2.1 Visualizing features\n",
    "rubric={points:10}\n",
    "\n",
    "**Your tasks:**\n",
    "\n",
    "1. Examine the information given by `train_df_nan.info()` and `train_df_nan.describe()` methods. In case of `.describe()`, you can optimally use the `include=\"all\"` argument to show summary statistics of all  features. {points:2}\n",
    "2. Visualize the histograms of numeric features (Hint: use \"df.hist\" to show the distribution of numeric features). {points:4} \n",
    "3. From the visualizations, which features seem relevant for the given prediction task?(You can pick multi-features). {points:4}\n",
    "\n",
    "> Note: (Optional) If you're feeling excited about this you are welcome to use [`pandas_profiling`](https://github.com/pandas-profiling/pandas-profiling) for more elaborate visualization and EDA. "
   ]
  },
  {
   "cell_type": "code",
   "execution_count": 8,
   "metadata": {
    "id": "6S_Ai80dQ8Bc"
   },
   "outputs": [
    {
     "name": "stdout",
     "output_type": "stream",
     "text": [
      "<class 'pandas.core.frame.DataFrame'>\n",
      "Int64Index: 16280 entries, 27978 to 17673\n",
      "Data columns (total 15 columns):\n",
      " #   Column          Non-Null Count  Dtype \n",
      "---  ------          --------------  ----- \n",
      " 0   age             16280 non-null  int64 \n",
      " 1   workclass       15403 non-null  object\n",
      " 2   fnlwgt          16280 non-null  int64 \n",
      " 3   education       16280 non-null  object\n",
      " 4   education.num   16280 non-null  int64 \n",
      " 5   marital.status  16280 non-null  object\n",
      " 6   occupation      15398 non-null  object\n",
      " 7   relationship    16280 non-null  object\n",
      " 8   race            16280 non-null  object\n",
      " 9   sex             16280 non-null  object\n",
      " 10  capital.gain    16280 non-null  int64 \n",
      " 11  capital.loss    16280 non-null  int64 \n",
      " 12  hours.per.week  16280 non-null  int64 \n",
      " 13  native.country  15998 non-null  object\n",
      " 14  income          16280 non-null  object\n",
      "dtypes: int64(6), object(9)\n",
      "memory usage: 2.0+ MB\n",
      "None\n",
      "\n",
      "\n",
      "                age workclass        fnlwgt education  education.num  \\\n",
      "count   16280.00000     15403  1.628000e+04     16280   16280.000000   \n",
      "unique          NaN         8           NaN        16            NaN   \n",
      "top             NaN   Private           NaN   HS-grad            NaN   \n",
      "freq            NaN     11404           NaN      5259            NaN   \n",
      "mean       38.55731       NaN  1.896666e+05       NaN      10.095885   \n",
      "std        13.53856       NaN  1.047738e+05       NaN       2.573179   \n",
      "min        17.00000       NaN  1.228500e+04       NaN       1.000000   \n",
      "25%        28.00000       NaN  1.178330e+05       NaN       9.000000   \n",
      "50%        37.00000       NaN  1.780250e+05       NaN      10.000000   \n",
      "75%        48.00000       NaN  2.369410e+05       NaN      12.000000   \n",
      "max        90.00000       NaN  1.455435e+06       NaN      16.000000   \n",
      "\n",
      "            marital.status      occupation relationship   race    sex  \\\n",
      "count                16280           15398        16280  16280  16280   \n",
      "unique                   7              14            6      5      2   \n",
      "top     Married-civ-spouse  Prof-specialty      Husband  White   Male   \n",
      "freq                  7498            2076         6582  13890  10887   \n",
      "mean                   NaN             NaN          NaN    NaN    NaN   \n",
      "std                    NaN             NaN          NaN    NaN    NaN   \n",
      "min                    NaN             NaN          NaN    NaN    NaN   \n",
      "25%                    NaN             NaN          NaN    NaN    NaN   \n",
      "50%                    NaN             NaN          NaN    NaN    NaN   \n",
      "75%                    NaN             NaN          NaN    NaN    NaN   \n",
      "max                    NaN             NaN          NaN    NaN    NaN   \n",
      "\n",
      "        capital.gain  capital.loss  hours.per.week native.country income  \n",
      "count   16280.000000  16280.000000    16280.000000          15998  16280  \n",
      "unique           NaN           NaN             NaN             40      2  \n",
      "top              NaN           NaN             NaN  United-States  <=50K  \n",
      "freq             NaN           NaN             NaN          14564  12355  \n",
      "mean     1101.524570     86.944287       40.569656            NaN    NaN  \n",
      "std      7518.801962    403.082228       12.394589            NaN    NaN  \n",
      "min         0.000000      0.000000        1.000000            NaN    NaN  \n",
      "25%         0.000000      0.000000       40.000000            NaN    NaN  \n",
      "50%         0.000000      0.000000       40.000000            NaN    NaN  \n",
      "75%         0.000000      0.000000       45.000000            NaN    NaN  \n",
      "max     99999.000000   4356.000000       99.000000            NaN    NaN  \n"
     ]
    }
   ],
   "source": [
    "# Task 1: (Hint: just print the train_df_nan.info and train_df_nan.describe)\n",
    "print(train_df_nan.info())\n",
    "print(\"\\n\")\n",
    "print(train_df_nan.describe(include=\"all\"))\n"
   ]
  },
  {
   "cell_type": "code",
   "execution_count": 9,
   "metadata": {
    "id": "Vhe2XuEZRN3s"
   },
   "outputs": [
    {
     "data": {
      "image/png": "[encoded data removed]",
      "text/plain": [
       "<Figure size 1500x1200 with 6 Axes>"
      ]
     },
     "metadata": {},
     "output_type": "display_data"
    }
   ],
   "source": [
    "# Task 2:\n",
    "train_df_nan.hist(figsize=(15, 12), bins=30)\n",
    "plt.tight_layout()\n",
    "plt.show()\n"
   ]
  },
  {
   "cell_type": "code",
   "execution_count": 10,
   "metadata": {
    "id": "J3yrQMwdRQo8"
   },
   "outputs": [],
   "source": [
    "# Task 3:\n",
    "# Pick the features\n",
    "# Answer:age, hours.per.week, capital gain/loss, occupation, gender"
   ]
  },
  {
   "cell_type": "markdown",
   "metadata": {
    "id": "zb9sp_WFDflp"
   },
   "source": [
    "### 2.2 Identify transformations to apply\n",
    "rubric={points:20}\n",
    "\n",
    "**Your tasks:**\n",
    "1. Identify what kind of feature transformations you would apply on each column in the dataset and fill in the table below accordingly. You may decide to apply any transformations on a certain column or entirely drop a column from your model. That's totally fine. We use imputation and One-Hot encoding for feature occupation here. {points: 13} \n",
    "2. Identify different feature types for applying different transformations. In particular, fill in the lists below. {points: 5} \n",
    "3. Is including the `race` feature for predicting income ethically a good idea? Briefly discuss. {points: 2}\n",
    "\n",
    "> Note: This question is a bit open-ended and there is no single correct solution."
   ]
  },
  {
   "cell_type": "markdown",
   "metadata": {
    "id": "ddgvx1tYnBN_"
   },
   "source": [
    "Task 1:\n",
    "Fill in the table with feature transformation techniques. You can drop this column by filling in \"drop\".{points:13}"
   ]
  },
  {
   "cell_type": "markdown",
   "metadata": {
    "id": "AXniOeNTDflp"
   },
   "source": [
    "| Feature | Transformation |\n",
    "| --- | ----------- |\n",
    "| occupation | imputation, One-Hot Encoding |\n",
    "| age | Scaling |\n",
    "| workclass | imputation |\n",
    "| fnlwgt | Scaling |\n",
    "| education | imputation |\n",
    "| education.num | Scaling |\n",
    "| marital.status | imputation, One-Hot Encoding |\n",
    "| relationship | imputation, One-Hot Encoding |\n",
    "| race | drop |\n",
    "| sex | One-Hot Encoding |\n",
    "| capital.gain | Scaling |\n",
    "| capital.loss | Scaling |\n",
    "| hours.per.week | Scaling |\n",
    "| native.country | drop |\n"
   ]
  },
  {
   "cell_type": "code",
   "execution_count": 11,
   "metadata": {
    "id": "yV67YMd1Dflp"
   },
   "outputs": [],
   "source": [
    "# Task 2: fill in the lists with feature name.\n",
    "# Example: numeric_features = [\"age\"] \n",
    "# It's OK to keep some of the lists empty or add new lists.{points:5}\n",
    "# Features lists\n",
    "numeric_features = [\"age\", \"fnlwgt\", \"education.num\", \"capital.gain\", \"capital.loss\", \"hours.per.week\"] \n",
    "categorical_features = [\"workclass\", \"marital.status\", \"occupation\", \"relationship\", \"native.country\"] \n",
    "ordinal_features = [\"education\"] \n",
    "binary_features = [\"sex\"] \n",
    "drop_features = []  # do not include these features in modeling, could be \"fnlwgt\" or \"education.num\"\n",
    "passthrough_features = [] # do not apply any transformation\n",
    "\n",
    "target = \"income\""
   ]
  },
  {
   "cell_type": "code",
   "execution_count": 12,
   "metadata": {
    "id": "AaVkfHnjoBFI"
   },
   "outputs": [],
   "source": [
    "# Task 3: Is including the `race` feature for predicting income ethically a good idea? Briefly discuss.{points:2}\n",
    "#(Type your answer here): I do not think that race should be included when predicting income ethically. There is a potential for misuse of the results if race is included in the data. Although it could improve the accuracy of the model I believe that ethical considerations and fairness are equally, if not more important. "
   ]
  },
  {
   "cell_type": "markdown",
   "metadata": {
    "id": "OPL0GRDzDflp"
   },
   "source": [
    "### 2.3 Separating feature vectors and targets  \n",
    "rubric={points:6}\n",
    "\n",
    "**Your tasks:**\n",
    "\n",
    "1. Create `X_train`, `y_train`, `X_test`, `y_test` from `train_df_nan` and `test_df_nan`. {points: 4}\n",
    "2. At this point, if you train [`sklearn`'s `SVC`](https://scikit-learn.org/stable/modules/generated/sklearn.svm.SVC.html) model on `X_train` and `y_train` would it work? Why or why not? {points: 2}"
   ]
  },
  {
   "cell_type": "code",
   "execution_count": 13,
   "metadata": {
    "id": "eK_pNHeQsiSO"
   },
   "outputs": [
    {
     "name": "stdout",
     "output_type": "stream",
     "text": [
      "       age         workclass  fnlwgt     education  education.num  \\\n",
      "27978   23  Self-emp-not-inc  111296          11th              7   \n",
      "3853    75           Private  104896       HS-grad              9   \n",
      "12294   52           Private  256916       HS-grad              9   \n",
      "10017   18               NaN  387641  Some-college             10   \n",
      "27073   27         Local-gov  332785       HS-grad              9   \n",
      "...    ...               ...     ...           ...            ...   \n",
      "28017   31           Private  227886  Some-college             10   \n",
      "17728   23               NaN  169104    Assoc-acdm             12   \n",
      "29199   38         Local-gov  282753     Assoc-voc             11   \n",
      "7293    47           Private  357848       HS-grad              9   \n",
      "17673   31           Private   25216     Bachelors             13   \n",
      "\n",
      "           marital.status       occupation relationship                race  \\\n",
      "27978       Never-married     Craft-repair    Own-child               White   \n",
      "3853   Married-civ-spouse            Sales      Husband               White   \n",
      "12294  Married-civ-spouse  Exec-managerial      Husband               White   \n",
      "10017       Never-married              NaN    Own-child               White   \n",
      "27073       Never-married  Protective-serv    Own-child               White   \n",
      "...                   ...              ...          ...                 ...   \n",
      "28017       Never-married     Adm-clerical    Unmarried               Black   \n",
      "17728       Never-married              NaN    Own-child  Asian-Pac-Islander   \n",
      "29199            Divorced  Exec-managerial    Own-child               White   \n",
      "7293   Married-civ-spouse     Craft-repair      Husband               White   \n",
      "17673            Divorced  Exec-managerial    Unmarried               White   \n",
      "\n",
      "          sex  capital.gain  capital.loss  hours.per.week native.country  \n",
      "27978    Male             0             0              50         Mexico  \n",
      "3853     Male          2653             0              20  United-States  \n",
      "12294    Male             0             0              40  United-States  \n",
      "10017    Male             0             0              40  United-States  \n",
      "27073    Male             0             0              38  United-States  \n",
      "...       ...           ...           ...             ...            ...  \n",
      "28017  Female             0             0              35  United-States  \n",
      "17728    Male             0             0              16    Philippines  \n",
      "29199    Male             0             0              40  United-States  \n",
      "7293     Male             0             0              40  United-States  \n",
      "17673  Female             0             0              40  United-States  \n",
      "\n",
      "[16280 rows x 14 columns]\n",
      "27978    <=50K\n",
      "3853     <=50K\n",
      "12294    <=50K\n",
      "10017    <=50K\n",
      "27073    <=50K\n",
      "         ...  \n",
      "28017    <=50K\n",
      "17728    <=50K\n",
      "29199    <=50K\n",
      "7293      >50K\n",
      "17673    <=50K\n",
      "Name: income, Length: 16280, dtype: object\n",
      "       age  workclass  fnlwgt     education  education.num  \\\n",
      "11358   22    Private  188950  Some-college             10   \n",
      "10859   44    Private  125461       Masters             14   \n",
      "30948   27  Local-gov  255237     Bachelors             13   \n",
      "29811   54    Private  141663       HS-grad              9   \n",
      "18408   56    Private   70720          12th              8   \n",
      "...    ...        ...     ...           ...            ...   \n",
      "22772   38  State-gov  203628     Bachelors             13   \n",
      "5236    20    Private  275691       HS-grad              9   \n",
      "17453   40    Private  222011       Masters             14   \n",
      "19446   62    Private  186696       HS-grad              9   \n",
      "1200    46    Private   85109  Some-college             10   \n",
      "\n",
      "           marital.status         occupation   relationship   race     sex  \\\n",
      "11358       Never-married       Tech-support      Own-child  White    Male   \n",
      "10859  Married-civ-spouse    Exec-managerial        Husband  White    Male   \n",
      "30948       Never-married     Prof-specialty  Not-in-family  White  Female   \n",
      "29811       Never-married      Other-service  Not-in-family  White    Male   \n",
      "18408  Married-civ-spouse     Prof-specialty        Husband  White    Male   \n",
      "...                   ...                ...            ...    ...     ...   \n",
      "22772  Married-civ-spouse     Prof-specialty        Husband  White    Male   \n",
      "5236        Never-married  Handlers-cleaners      Own-child  White    Male   \n",
      "17453       Never-married     Prof-specialty  Not-in-family  White  Female   \n",
      "19446  Married-civ-spouse       Craft-repair        Husband  White    Male   \n",
      "1200   Married-civ-spouse  Machine-op-inspct        Husband  White    Male   \n",
      "\n",
      "       capital.gain  capital.loss  hours.per.week native.country  \n",
      "11358             0             0              40  United-States  \n",
      "10859             0             0              35  United-States  \n",
      "30948             0             0              40  United-States  \n",
      "29811             0             0              15  United-States  \n",
      "18408             0             0              40  United-States  \n",
      "...             ...           ...             ...            ...  \n",
      "22772             0             0              45  United-States  \n",
      "5236              0             0              28  United-States  \n",
      "17453             0             0              45  United-States  \n",
      "19446             0             0              40  United-States  \n",
      "1200              0          1628              40  United-States  \n",
      "\n",
      "[16281 rows x 14 columns]\n",
      "11358    <=50K\n",
      "10859     >50K\n",
      "30948    <=50K\n",
      "29811    <=50K\n",
      "18408     >50K\n",
      "         ...  \n",
      "22772     >50K\n",
      "5236     <=50K\n",
      "17453     >50K\n",
      "19446    <=50K\n",
      "1200     <=50K\n",
      "Name: income, Length: 16281, dtype: object\n"
     ]
    }
   ],
   "source": [
    "# Task 1 (Split the dataset):\n",
    "X_train = train_df_nan.drop(columns=['income'])\n",
    "y_train = train_df_nan['income']\n",
    "\n",
    "X_test = test_df_nan.drop(columns=['income'])\n",
    "y_test = test_df_nan['income']\n",
    "print(X_train)\n",
    "print(y_train)\n",
    "print(X_test)\n",
    "print(y_test)"
   ]
  },
  {
   "cell_type": "code",
   "execution_count": 14,
   "metadata": {
    "id": "Vh1UP57ronhi"
   },
   "outputs": [],
   "source": [
    "# Task 2: \n",
    "# Answer: No. there are missing values, svc expects numerical values not categorial ones (workclass, etc), and the scaling will be too complex unless the data is scaled down. "
   ]
  },
  {
   "cell_type": "markdown",
   "metadata": {
    "id": "EiXxwRX0Dflp"
   },
   "source": [
    "## Exercise 3: Preprocessing <a name=\"3\"></a>\n",
    "<hr>"
   ]
  },
  {
   "cell_type": "markdown",
   "metadata": {
    "id": "PiJ9evnwDflq"
   },
   "source": [
    "### 3.1 Preprocessing using `sklearn`'s `ColumnTransformer` and `Pipeline`\n",
    "rubric={points:18}\n",
    "\n",
    "Let's carry out preprocessing using `sklearn`'s `ColumnTransformer` and `Pipeline`. Note that you can define pipelines in two ways: \n",
    "- by using [`Pipeline`](https://scikit-learn.org/stable/modules/generated/sklearn.pipeline.Pipeline.html) and explicitly providing named steps\n",
    "- by using [`make_pipeline`](https://scikit-learn.org/stable/modules/generated/sklearn.pipeline.make_pipeline.html#sklearn.pipeline.make_pipeline), which automatically names the steps in the pipeline with their class names. \n",
    "\n",
    "Similarly you can create a column transformer in two ways:\n",
    "- by using [`ColumnTransformer`](https://scikit-learn.org/stable/modules/generated/sklearn.compose.ColumnTransformer.html)\n",
    "- by using [`make_column_transformer`](https://scikit-learn.org/stable/modules/generated/sklearn.compose.make_column_transformer.html) \n",
    "\n",
    "You may use the method of your choice but `make_pipeline` and `make_column_transformer` are highly recommended.  \n",
    "\n",
    "**Your tasks:**\n",
    "\n",
    "1. Create a column transformer `preprocessor` based on transformations you want to apply on the data from 2.2. {points: 10}\n",
    "2. Transform the data by calling `fit_transform` on the training set. What's the shape of the transformed data? {points: 4} \n",
    "3. Why do we need to use a column transformer in this case? Briefly explain. {points: 4} "
   ]
  },
  {
   "cell_type": "code",
   "execution_count": 15,
   "metadata": {
    "id": "KdZNppszDflq"
   },
   "outputs": [],
   "source": [
    "# Task 1:\n",
    "preprocessor = make_column_transformer(\n",
    "    \n",
    "    # numeric\n",
    "    (make_pipeline(\n",
    "        StandardScaler()\n",
    "    ), numeric_features),\n",
    "    \n",
    "    # cat\n",
    "    (make_pipeline(\n",
    "        SimpleImputer(strategy='most_frequent'), # handle missing values\n",
    "        OneHotEncoder(handle_unknown=\"ignore\")\n",
    "    ), categorical_features),\n",
    "    \n",
    "    #binary\n",
    "    (make_pipeline(\n",
    "        OrdinalEncoder()\n",
    "    ), binary_features)\n",
    ")"
   ]
  },
  {
   "cell_type": "code",
   "execution_count": 16,
   "metadata": {
    "id": "qdebC8K5Xh6H"
   },
   "outputs": [
    {
     "name": "stdout",
     "output_type": "stream",
     "text": [
      "The shape of the transformed training data: (16280, 82)\n"
     ]
    }
   ],
   "source": [
    "# Task 2:\n",
    "X_train_transformed = preprocessor.fit_transform(X_train)\n",
    "print(f\"The shape of the transformed training data: {X_train_transformed.shape}\")"
   ]
  },
  {
   "cell_type": "code",
   "execution_count": 17,
   "metadata": {
    "id": "Prm9ZygpZjbj"
   },
   "outputs": [],
   "source": [
    "# Task 3:\n",
    "# Answer:we need to use a column transformer in this case because it provides a consistent way to apply the transformations to their sprcific columns. It makes it so that the data is preprocessed before its modeled. "
   ]
  },
  {
   "cell_type": "markdown",
   "metadata": {
    "id": "ZJzKb832Dflq"
   },
   "source": [
    "## Exercise 4: Building models <a name=\"4\"></a>\n",
    "<hr>\n",
    "\n",
    "Now that we have preprocessed features, we are ready to build models. Below, I'm providing the function we used in class which returns mean cross-validation score along with standard deviation for a given model. Feel free to use it to keep track of your results if you like. "
   ]
  },
  {
   "cell_type": "code",
   "execution_count": 18,
   "metadata": {
    "id": "O9ufkaSNDflq"
   },
   "outputs": [],
   "source": [
    "results_dict = {}  # dictionary to store all the results"
   ]
  },
  {
   "cell_type": "code",
   "execution_count": 19,
   "metadata": {
    "id": "6-8Ca9YSDflq"
   },
   "outputs": [],
   "source": [
    "def mean_std_cross_val_scores(model, X_train, y_train, **kwargs):\n",
    "    \"\"\"\n",
    "    Returns mean and std of cross validation\n",
    "\n",
    "    Parameters\n",
    "    ----------\n",
    "    model :\n",
    "        scikit-learn model\n",
    "    X_train : numpy array or pandas DataFrame\n",
    "        X in the training data\n",
    "    y_train :\n",
    "        y in the training data\n",
    "\n",
    "    Returns\n",
    "    ----------\n",
    "        pandas Series with mean scores from cross_validation\n",
    "    \"\"\"\n",
    "\n",
    "    scores = cross_validate(model, X_train, y_train, **kwargs)\n",
    "\n",
    "    mean_scores = pd.DataFrame(scores).mean()\n",
    "    std_scores = pd.DataFrame(scores).std()\n",
    "    out_col = []\n",
    "\n",
    "    for i in range(len(mean_scores)):\n",
    "        out_col.append((f\"%0.3f (+/- %0.3f)\" % (mean_scores[i], std_scores[i])))\n",
    "\n",
    "    return pd.Series(data=out_col, index=mean_scores.index)"
   ]
  },
  {
   "cell_type": "markdown",
   "metadata": {
    "id": "1llmxXzhDflq"
   },
   "source": [
    "### 4.1 Baseline model \n",
    "rubric={points:6}\n",
    "\n",
    "**Your tasks:**\n",
    "1. Define a pipeline with two steps: `preprocessor` from 3.1 and `scikit-learn`'s `DummyClassifier` with `strategy=\"prior\"` as your classifier. {points:3} \n",
    "2. Carry out 5-fold cross-validation with the pipeline. Store the results in `results_dict` above. Display the results as a pandas DataFrame.  {points:3} \n",
    "\n",
    "> You may use the function `mean_std_cross_val_scores` above to carry out cross-validation and storing results. Refer to the class notes if you are unsure about how to use it. "
   ]
  },
  {
   "cell_type": "code",
   "execution_count": 20,
   "metadata": {
    "id": "AjLY7mBAiHgS"
   },
   "outputs": [],
   "source": [
    "# Task 1:\n",
    "baseline_pipeline = make_pipeline(\n",
    "    preprocessor, \n",
    "    DummyClassifier(strategy=\"prior\")\n",
    ")"
   ]
  },
  {
   "cell_type": "code",
   "execution_count": 21,
   "metadata": {
    "id": "S2_GgZ4WkzSJ"
   },
   "outputs": [
    {
     "data": {
      "text/html": [
       "<div>\n",
       "<style scoped>\n",
       "    .dataframe tbody tr th:only-of-type {\n",
       "        vertical-align: middle;\n",
       "    }\n",
       "\n",
       "    .dataframe tbody tr th {\n",
       "        vertical-align: top;\n",
       "    }\n",
       "\n",
       "    .dataframe thead th {\n",
       "        text-align: right;\n",
       "    }\n",
       "</style>\n",
       "<table border=\"1\" class=\"dataframe\">\n",
       "  <thead>\n",
       "    <tr style=\"text-align: right;\">\n",
       "      <th></th>\n",
       "      <th>fit_time</th>\n",
       "      <th>score_time</th>\n",
       "      <th>test_score</th>\n",
       "      <th>train_score</th>\n",
       "    </tr>\n",
       "  </thead>\n",
       "  <tbody>\n",
       "    <tr>\n",
       "      <th>Baseline model</th>\n",
       "      <td>0.027 (+/- 0.001)</td>\n",
       "      <td>0.009 (+/- 0.002)</td>\n",
       "      <td>0.759 (+/- 0.000)</td>\n",
       "      <td>0.759 (+/- 0.000)</td>\n",
       "    </tr>\n",
       "  </tbody>\n",
       "</table>\n",
       "</div>"
      ],
      "text/plain": [
       "                         fit_time         score_time         test_score  \\\n",
       "Baseline model  0.027 (+/- 0.001)  0.009 (+/- 0.002)  0.759 (+/- 0.000)   \n",
       "\n",
       "                      train_score  \n",
       "Baseline model  0.759 (+/- 0.000)  "
      ]
     },
     "execution_count": 21,
     "metadata": {},
     "output_type": "execute_result"
    }
   ],
   "source": [
    "# Task 2:\n",
    "results = mean_std_cross_val_scores(baseline_pipeline, X_train, y_train, cv=5, return_train_score=True)\n",
    "\n",
    "results_dict[\"Baseline model\"] = results\n",
    "pd.DataFrame(results_dict).T"
   ]
  },
  {
   "cell_type": "markdown",
   "metadata": {
    "id": "keTpMjxBDflr"
   },
   "source": [
    "### 4.2 Trying different classifiers\n",
    "rubric={points:12}\n",
    "\n",
    "**Your tasks:**\n",
    "\n",
    "1. For each of the models in the starter code below: {points: 5}\n",
    "    - Define a pipeline with two steps: `preprocessor` from 3.1 and the model as your classifier. \n",
    "    - Carry out 5-fold cross-validation with the pipeline.  \n",
    "    - Store the results in `results_dict`. \n",
    "2. Display all the results so far as a pandas dataframe. {points: 2}\n",
    "3. Compare the train and validation accuracies and `fit` and `score` times in each case. How do the the validation accuracies compare to the baseline model from 4.1? Which model has the best validation accuracy? Which model is the fastest one(Pick one from: Dummy classifier, decision tree, KNN, SVM)? {points: 5} \n",
    "\n",
    "> Note that this might take a while to run.\n",
    "\n",
    "> You may use the function above `mean_std_cross_val_scores` to carry out cross-validation and storing results. Refer to the class notes if you are unsure about how to use it. "
   ]
  },
  {
   "cell_type": "code",
   "execution_count": 22,
   "metadata": {
    "id": "9V2AIF0kDflr"
   },
   "outputs": [],
   "source": [
    "models = {\n",
    "    \"decision tree\": DecisionTreeClassifier(),\n",
    "    \"kNN\": KNeighborsClassifier(),\n",
    "    \"RBF SVM\": SVC(),\n",
    "}"
   ]
  },
  {
   "cell_type": "code",
   "execution_count": 23,
   "metadata": {
    "id": "zV0YTrAZoRi6"
   },
   "outputs": [],
   "source": [
    "# Task 1:\n",
    "for name, model in models.items():\n",
    "    pipeline = make_pipeline(preprocessor, model)\n",
    "    results = mean_std_cross_val_scores(pipeline, X_train, y_train, cv=5, return_train_score=True)\n",
    "    results_dict[name] = results"
   ]
  },
  {
   "cell_type": "code",
   "execution_count": 24,
   "metadata": {
    "id": "b_8KyG07r-Sh"
   },
   "outputs": [
    {
     "data": {
      "text/html": [
       "<div>\n",
       "<style scoped>\n",
       "    .dataframe tbody tr th:only-of-type {\n",
       "        vertical-align: middle;\n",
       "    }\n",
       "\n",
       "    .dataframe tbody tr th {\n",
       "        vertical-align: top;\n",
       "    }\n",
       "\n",
       "    .dataframe thead th {\n",
       "        text-align: right;\n",
       "    }\n",
       "</style>\n",
       "<table border=\"1\" class=\"dataframe\">\n",
       "  <thead>\n",
       "    <tr style=\"text-align: right;\">\n",
       "      <th></th>\n",
       "      <th>fit_time</th>\n",
       "      <th>score_time</th>\n",
       "      <th>test_score</th>\n",
       "      <th>train_score</th>\n",
       "    </tr>\n",
       "  </thead>\n",
       "  <tbody>\n",
       "    <tr>\n",
       "      <th>Baseline model</th>\n",
       "      <td>0.027 (+/- 0.001)</td>\n",
       "      <td>0.009 (+/- 0.002)</td>\n",
       "      <td>0.759 (+/- 0.000)</td>\n",
       "      <td>0.759 (+/- 0.000)</td>\n",
       "    </tr>\n",
       "    <tr>\n",
       "      <th>decision tree</th>\n",
       "      <td>0.345 (+/- 0.004)</td>\n",
       "      <td>0.010 (+/- 0.001)</td>\n",
       "      <td>0.808 (+/- 0.005)</td>\n",
       "      <td>1.000 (+/- 0.000)</td>\n",
       "    </tr>\n",
       "    <tr>\n",
       "      <th>kNN</th>\n",
       "      <td>0.033 (+/- 0.003)</td>\n",
       "      <td>1.490 (+/- 0.085)</td>\n",
       "      <td>0.831 (+/- 0.005)</td>\n",
       "      <td>0.882 (+/- 0.002)</td>\n",
       "    </tr>\n",
       "    <tr>\n",
       "      <th>RBF SVM</th>\n",
       "      <td>2.748 (+/- 0.083)</td>\n",
       "      <td>0.456 (+/- 0.033)</td>\n",
       "      <td>0.854 (+/- 0.005)</td>\n",
       "      <td>0.867 (+/- 0.002)</td>\n",
       "    </tr>\n",
       "  </tbody>\n",
       "</table>\n",
       "</div>"
      ],
      "text/plain": [
       "                         fit_time         score_time         test_score  \\\n",
       "Baseline model  0.027 (+/- 0.001)  0.009 (+/- 0.002)  0.759 (+/- 0.000)   \n",
       "decision tree   0.345 (+/- 0.004)  0.010 (+/- 0.001)  0.808 (+/- 0.005)   \n",
       "kNN             0.033 (+/- 0.003)  1.490 (+/- 0.085)  0.831 (+/- 0.005)   \n",
       "RBF SVM         2.748 (+/- 0.083)  0.456 (+/- 0.033)  0.854 (+/- 0.005)   \n",
       "\n",
       "                      train_score  \n",
       "Baseline model  0.759 (+/- 0.000)  \n",
       "decision tree   1.000 (+/- 0.000)  \n",
       "kNN             0.882 (+/- 0.002)  \n",
       "RBF SVM         0.867 (+/- 0.002)  "
      ]
     },
     "execution_count": 24,
     "metadata": {},
     "output_type": "execute_result"
    }
   ],
   "source": [
    "# Task 2:\n",
    "pd.DataFrame(results_dict).T"
   ]
  },
  {
   "cell_type": "code",
   "execution_count": 25,
   "metadata": {
    "id": "hZElCc5nqNvu"
   },
   "outputs": [],
   "source": [
    "# Task 3:\n",
    "# Answer: The RBF SVm has the highest accuracy but it is the slowest to train. kNN is pretty accurate but it is also quite slow. decision tree has a mix of both, its not fastest or slowest and its not most or least accurate. It may be overfit though cause of its training score. "
   ]
  },
  {
   "cell_type": "markdown",
   "metadata": {
    "id": "OMEIQEyMDflr"
   },
   "source": [
    "### 4.3 Exploring importance of scaling\n",
    "rubric={points:10}\n",
    "\n",
    "In this exercise you'll examine whether scaling helps in case of KNNs and SVM RBFs. \n",
    "\n",
    "**Your tasks:**\n",
    "\n",
    "1. Create a column transformer without the `StandardScaler` step for `numeric_features`. {points:4} \n",
    "2. Repeat the steps in 4.2 with this new column transformer. Save all results in \"results_dic_compare\" {points: 4}\n",
    "3. Compare the results of scaled numeric features with unscaled numeric features. Is scaling necessary for decision trees? Why or why not? {points:2}"
   ]
  },
  {
   "cell_type": "code",
   "execution_count": 26,
   "metadata": {
    "id": "qT_aUI9V1iGH"
   },
   "outputs": [],
   "source": [
    "results_dict_compare = {}  # dictionary to store all the results"
   ]
  },
  {
   "cell_type": "code",
   "execution_count": 27,
   "metadata": {},
   "outputs": [
    {
     "name": "stdout",
     "output_type": "stream",
     "text": [
      "['workclass', 'marital.status', 'occupation', 'relationship', 'native.country']\n",
      "workclass: ['Self-emp-not-inc' 'Private' nan 'Local-gov' 'State-gov' 'Federal-gov'\n",
      " 'Self-emp-inc' 'Without-pay' 'Never-worked']\n",
      "marital.status: ['Never-married' 'Married-civ-spouse' 'Divorced' 'Widowed' 'Separated'\n",
      " 'Married-spouse-absent' 'Married-AF-spouse']\n",
      "occupation: ['Craft-repair' 'Sales' 'Exec-managerial' nan 'Protective-serv'\n",
      " 'Prof-specialty' 'Handlers-cleaners' 'Other-service' 'Transport-moving'\n",
      " 'Adm-clerical' 'Farming-fishing' 'Machine-op-inspct' 'Tech-support'\n",
      " 'Priv-house-serv' 'Armed-Forces']\n",
      "relationship: ['Own-child' 'Husband' 'Not-in-family' 'Wife' 'Unmarried' 'Other-relative']\n",
      "native.country: ['Mexico' 'United-States' 'India' 'Jamaica' 'Greece' nan 'Columbia'\n",
      " 'Canada' 'Germany' 'England' 'Puerto-Rico' 'South' 'Cuba' 'Philippines'\n",
      " 'Haiti' 'Hong' 'Portugal' 'Vietnam' 'France' 'Italy' 'Cambodia' 'China'\n",
      " 'Dominican-Republic' 'Yugoslavia' 'Poland' 'Ireland' 'El-Salvador'\n",
      " 'Guatemala' 'Hungary' 'Laos' 'Nicaragua' 'Japan' 'Trinadad&Tobago' 'Iran'\n",
      " 'Taiwan' 'Thailand' 'Outlying-US(Guam-USVI-etc)' 'Peru' 'Honduras'\n",
      " 'Ecuador' 'Scotland']\n",
      "workclass         object\n",
      "marital.status    object\n",
      "occupation        object\n",
      "relationship      object\n",
      "native.country    object\n",
      "dtype: object\n",
      "  (0, 5)\t1.0\n",
      "  (0, 13)\t1.0\n",
      "  (0, 18)\t1.0\n",
      "  (0, 34)\t1.0\n",
      "  (0, 61)\t1.0\n",
      "  (1, 3)\t1.0\n",
      "  (1, 11)\t1.0\n",
      "  (1, 27)\t1.0\n",
      "  (1, 31)\t1.0\n",
      "  (1, 74)\t1.0\n",
      "  (2, 3)\t1.0\n",
      "  (2, 11)\t1.0\n",
      "  (2, 19)\t1.0\n",
      "  (2, 31)\t1.0\n",
      "  (2, 74)\t1.0\n",
      "  (3, 8)\t1.0\n",
      "  (3, 13)\t1.0\n",
      "  (3, 30)\t1.0\n",
      "  (3, 34)\t1.0\n",
      "  (3, 74)\t1.0\n",
      "  (4, 1)\t1.0\n",
      "  (4, 13)\t1.0\n",
      "  (4, 26)\t1.0\n",
      "  (4, 34)\t1.0\n",
      "  (4, 74)\t1.0\n",
      "  :\t:\n",
      "  (16275, 3)\t1.0\n",
      "  (16275, 13)\t1.0\n",
      "  (16275, 16)\t1.0\n",
      "  (16275, 35)\t1.0\n",
      "  (16275, 74)\t1.0\n",
      "  (16276, 8)\t1.0\n",
      "  (16276, 13)\t1.0\n",
      "  (16276, 30)\t1.0\n",
      "  (16276, 34)\t1.0\n",
      "  (16276, 65)\t1.0\n",
      "  (16277, 1)\t1.0\n",
      "  (16277, 9)\t1.0\n",
      "  (16277, 19)\t1.0\n",
      "  (16277, 34)\t1.0\n",
      "  (16277, 74)\t1.0\n",
      "  (16278, 3)\t1.0\n",
      "  (16278, 11)\t1.0\n",
      "  (16278, 18)\t1.0\n",
      "  (16278, 31)\t1.0\n",
      "  (16278, 74)\t1.0\n",
      "  (16279, 3)\t1.0\n",
      "  (16279, 9)\t1.0\n",
      "  (16279, 19)\t1.0\n",
      "  (16279, 35)\t1.0\n",
      "  (16279, 74)\t1.0\n"
     ]
    }
   ],
   "source": [
    "#X_transformed = preprocessor_without_scaling.fit_transform(X_train)\n",
    "print(categorical_features)\n",
    "for feature in categorical_features:\n",
    "    print(f\"{feature}: {X_train[feature].unique()}\")\n",
    "print(X_train[categorical_features].dtypes)\n",
    "print(OneHotEncoder(handle_unknown='ignore').fit_transform(X_train[categorical_features]))\n",
    "X_train_filled = X_train.fillna(\"Missing\")\n"
   ]
  },
  {
   "cell_type": "code",
   "execution_count": 28,
   "metadata": {
    "id": "zZ0OGDYu0i16",
    "scrolled": true
   },
   "outputs": [],
   "source": [
    "# Task 1:\n",
    "preprocessor_without_scaling = make_column_transformer(\n",
    "    (SimpleImputer(strategy='most_frequent'), numeric_features),  # only imputation for numeric features\n",
    "    (make_pipeline(\n",
    "        SimpleImputer(strategy='most_frequent'),\n",
    "        OneHotEncoder(handle_unknown=\"ignore\")\n",
    "    ), categorical_features),\n",
    "    (make_pipeline(\n",
    "        OrdinalEncoder()\n",
    "    ), binary_features)\n",
    ")"
   ]
  },
  {
   "cell_type": "code",
   "execution_count": 29,
   "metadata": {
    "id": "DVUBwzyj2CcP"
   },
   "outputs": [
    {
     "data": {
      "text/html": [
       "<div>\n",
       "<style scoped>\n",
       "    .dataframe tbody tr th:only-of-type {\n",
       "        vertical-align: middle;\n",
       "    }\n",
       "\n",
       "    .dataframe tbody tr th {\n",
       "        vertical-align: top;\n",
       "    }\n",
       "\n",
       "    .dataframe thead th {\n",
       "        text-align: right;\n",
       "    }\n",
       "</style>\n",
       "<table border=\"1\" class=\"dataframe\">\n",
       "  <thead>\n",
       "    <tr style=\"text-align: right;\">\n",
       "      <th></th>\n",
       "      <th>fit_time</th>\n",
       "      <th>score_time</th>\n",
       "      <th>test_score</th>\n",
       "      <th>train_score</th>\n",
       "    </tr>\n",
       "  </thead>\n",
       "  <tbody>\n",
       "    <tr>\n",
       "      <th>decision tree</th>\n",
       "      <td>0.314 (+/- 0.012)</td>\n",
       "      <td>0.010 (+/- 0.001)</td>\n",
       "      <td>0.808 (+/- 0.004)</td>\n",
       "      <td>1.000 (+/- 0.000)</td>\n",
       "    </tr>\n",
       "    <tr>\n",
       "      <th>kNN</th>\n",
       "      <td>0.032 (+/- 0.003)</td>\n",
       "      <td>1.103 (+/- 0.082)</td>\n",
       "      <td>0.776 (+/- 0.006)</td>\n",
       "      <td>0.828 (+/- 0.003)</td>\n",
       "    </tr>\n",
       "    <tr>\n",
       "      <th>RBF SVM</th>\n",
       "      <td>3.317 (+/- 0.293)</td>\n",
       "      <td>0.717 (+/- 0.052)</td>\n",
       "      <td>0.787 (+/- 0.002)</td>\n",
       "      <td>0.787 (+/- 0.001)</td>\n",
       "    </tr>\n",
       "  </tbody>\n",
       "</table>\n",
       "</div>"
      ],
      "text/plain": [
       "                        fit_time         score_time         test_score  \\\n",
       "decision tree  0.314 (+/- 0.012)  0.010 (+/- 0.001)  0.808 (+/- 0.004)   \n",
       "kNN            0.032 (+/- 0.003)  1.103 (+/- 0.082)  0.776 (+/- 0.006)   \n",
       "RBF SVM        3.317 (+/- 0.293)  0.717 (+/- 0.052)  0.787 (+/- 0.002)   \n",
       "\n",
       "                     train_score  \n",
       "decision tree  1.000 (+/- 0.000)  \n",
       "kNN            0.828 (+/- 0.003)  \n",
       "RBF SVM        0.787 (+/- 0.001)  "
      ]
     },
     "execution_count": 29,
     "metadata": {},
     "output_type": "execute_result"
    }
   ],
   "source": [
    "# Task 2: \n",
    "# Extract the race column\n",
    "models = {\n",
    "    \"decision tree\": DecisionTreeClassifier(),\n",
    "    \"kNN\": KNeighborsClassifier(),\n",
    "    \"RBF SVM\": SVC(),\n",
    "}\n",
    "\n",
    "for name, model in models.items():\n",
    "    pipeline = make_pipeline(preprocessor_without_scaling, model)\n",
    "    results = mean_std_cross_val_scores(pipeline, X_train, y_train, cv=5, return_train_score=True)\n",
    "    results_dict_compare[name] = results\n",
    "\n",
    "# Displaying the results\n",
    "pd.DataFrame(results_dict_compare).T    "
   ]
  },
  {
   "cell_type": "code",
   "execution_count": 30,
   "metadata": {
    "id": "3-xhypYspdi6"
   },
   "outputs": [],
   "source": [
    "# Task 3:\n",
    "# Answer: the decision tree result stayed about the same with/wothout scale. The kNN and RBF SVM models both decreased in performance when the features were not scaled. "
   ]
  },
  {
   "cell_type": "markdown",
   "metadata": {
    "id": "qoAVkVuwDflr"
   },
   "source": [
    "### 4.4 Hyperparameter optimization\n",
    "rubric={points:8}\n",
    "\n",
    "In this exercise, you'll carry out hyperparameter optimization for the hyperparameter `C` of SVC RBF classifier. In practice you'll carry out hyperparameter optimization for all different hyperparameters for the most promising classifiers. For the purpose of this assignment, we'll only do it for the `SVC` classifier with one hyperparameter: `C`. \n",
    "\n",
    "**Your tasks:**\n",
    "\n",
    "1. For each `C` value in the `param_grid` in the starter code below: \n",
    "    - Create a pipeline object with two steps: preprocessor from 3.1 and `SVC` classifier with the value of `C`.\n",
    "    - Carry out 5-fold cross validation with the pipeline.  \n",
    "    - Store the results in `results_dict` and display results as a pandas DataFrame. {points:4} \n",
    "2. The hyperparameter `C = 1.0` is the default value in `scikit-learn`. Does this default value (`C = 1.0`) seem reasonable, meaning it is performing the best or comparable to the best `C` values? {points:4}\n",
    "\n",
    "> Note: Running this might take a while.(Waite patiently: about 9 min on colab) "
   ]
  },
  {
   "cell_type": "code",
   "execution_count": 31,
   "metadata": {
    "colab": {
     "base_uri": "https://localhost:8080/"
    },
    "id": "gBIeKqexDflr",
    "outputId": "853a66f8-21b5-426c-cbdb-9576dcff7210"
   },
   "outputs": [
    {
     "data": {
      "text/plain": [
       "{'C': array([1.e-02, 1.e-01, 1.e+00, 1.e+01, 1.e+02])}"
      ]
     },
     "execution_count": 31,
     "metadata": {},
     "output_type": "execute_result"
    }
   ],
   "source": [
    "param_grid = {\"C\": np.logspace(-2, 2, 5)}\n",
    "param_grid"
   ]
  },
  {
   "cell_type": "code",
   "execution_count": 32,
   "metadata": {
    "id": "HbOE377Qu5Mh"
   },
   "outputs": [
    {
     "name": "stdout",
     "output_type": "stream",
     "text": [
      "Testing with C = 0.01...\n",
      "Testing with C = 0.1...\n",
      "Testing with C = 1.0...\n",
      "Testing with C = 10.0...\n",
      "Testing with C = 100.0...\n"
     ]
    },
    {
     "data": {
      "text/html": [
       "<div>\n",
       "<style scoped>\n",
       "    .dataframe tbody tr th:only-of-type {\n",
       "        vertical-align: middle;\n",
       "    }\n",
       "\n",
       "    .dataframe tbody tr th {\n",
       "        vertical-align: top;\n",
       "    }\n",
       "\n",
       "    .dataframe thead th {\n",
       "        text-align: right;\n",
       "    }\n",
       "</style>\n",
       "<table border=\"1\" class=\"dataframe\">\n",
       "  <thead>\n",
       "    <tr style=\"text-align: right;\">\n",
       "      <th></th>\n",
       "      <th>fit_time</th>\n",
       "      <th>score_time</th>\n",
       "      <th>test_score</th>\n",
       "      <th>train_score</th>\n",
       "    </tr>\n",
       "  </thead>\n",
       "  <tbody>\n",
       "    <tr>\n",
       "      <th>SVC_C_0.01</th>\n",
       "      <td>3.564 (+/- 0.313)</td>\n",
       "      <td>0.659 (+/- 0.036)</td>\n",
       "      <td>0.802 (+/- 0.004)</td>\n",
       "      <td>0.804 (+/- 0.004)</td>\n",
       "    </tr>\n",
       "    <tr>\n",
       "      <th>SVC_C_0.1</th>\n",
       "      <td>2.709 (+/- 0.039)</td>\n",
       "      <td>0.496 (+/- 0.021)</td>\n",
       "      <td>0.851 (+/- 0.007)</td>\n",
       "      <td>0.853 (+/- 0.002)</td>\n",
       "    </tr>\n",
       "    <tr>\n",
       "      <th>SVC_C_1.0</th>\n",
       "      <td>2.674 (+/- 0.058)</td>\n",
       "      <td>0.460 (+/- 0.022)</td>\n",
       "      <td>0.854 (+/- 0.005)</td>\n",
       "      <td>0.867 (+/- 0.002)</td>\n",
       "    </tr>\n",
       "    <tr>\n",
       "      <th>SVC_C_10.0</th>\n",
       "      <td>3.655 (+/- 0.064)</td>\n",
       "      <td>0.458 (+/- 0.003)</td>\n",
       "      <td>0.853 (+/- 0.004)</td>\n",
       "      <td>0.891 (+/- 0.002)</td>\n",
       "    </tr>\n",
       "    <tr>\n",
       "      <th>SVC_C_100.0</th>\n",
       "      <td>6.929 (+/- 0.114)</td>\n",
       "      <td>0.513 (+/- 0.099)</td>\n",
       "      <td>0.837 (+/- 0.006)</td>\n",
       "      <td>0.917 (+/- 0.002)</td>\n",
       "    </tr>\n",
       "  </tbody>\n",
       "</table>\n",
       "</div>"
      ],
      "text/plain": [
       "                      fit_time         score_time         test_score  \\\n",
       "SVC_C_0.01   3.564 (+/- 0.313)  0.659 (+/- 0.036)  0.802 (+/- 0.004)   \n",
       "SVC_C_0.1    2.709 (+/- 0.039)  0.496 (+/- 0.021)  0.851 (+/- 0.007)   \n",
       "SVC_C_1.0    2.674 (+/- 0.058)  0.460 (+/- 0.022)  0.854 (+/- 0.005)   \n",
       "SVC_C_10.0   3.655 (+/- 0.064)  0.458 (+/- 0.003)  0.853 (+/- 0.004)   \n",
       "SVC_C_100.0  6.929 (+/- 0.114)  0.513 (+/- 0.099)  0.837 (+/- 0.006)   \n",
       "\n",
       "                   train_score  \n",
       "SVC_C_0.01   0.804 (+/- 0.004)  \n",
       "SVC_C_0.1    0.853 (+/- 0.002)  \n",
       "SVC_C_1.0    0.867 (+/- 0.002)  \n",
       "SVC_C_10.0   0.891 (+/- 0.002)  \n",
       "SVC_C_100.0  0.917 (+/- 0.002)  "
      ]
     },
     "execution_count": 32,
     "metadata": {},
     "output_type": "execute_result"
    }
   ],
   "source": [
    "# Task 1:\n",
    "svc_results_dict = {}\n",
    "\n",
    "# Iterate over each value of C in the parameter grid\n",
    "for C_val in param_grid[\"C\"]:\n",
    "    print(f\"Testing with C = {C_val}...\")\n",
    "    # Create the pipeline\n",
    "    pipeline = make_pipeline(preprocessor, SVC(C=C_val))\n",
    "    \n",
    "    # Carry out 5-fold cross-validation\n",
    "    results = mean_std_cross_val_scores(pipeline, X_train, y_train, cv=5, return_train_score=True)\n",
    "    \n",
    "    # Store results in the dictionary with C value as key\n",
    "    svc_results_dict[f\"SVC_C_{C_val}\"] = results\n",
    "\n",
    "# Convert results dictionary to a pandas DataFrame and display it\n",
    "svc_results_df = pd.DataFrame(svc_results_dict).T\n",
    "svc_results_df"
   ]
  },
  {
   "cell_type": "code",
   "execution_count": 33,
   "metadata": {
    "id": "yKXlRVA6pqUk"
   },
   "outputs": [],
   "source": [
    "# Task 2:\n",
    "# Answer: the svc model with c=1.0 had the best performance. it had a test accuracy of 85.4% which is better than all of the other values that were tested. therefore, having the default at 1.0 seems most reasonable. "
   ]
  },
  {
   "cell_type": "markdown",
   "metadata": {
    "id": "Nez4IjzNDfls",
    "tags": []
   },
   "source": [
    "## Exercise 5: Evaluating on the test set <a name=\"5\"></a>\n",
    "<hr>\n",
    "\n",
    "Now that we have a best performing model, it's time to assess our model on the set aside test set. In this exercise you'll examine whether the results you obtained using cross-validation on the train set are consistent with the results on the test set. "
   ]
  },
  {
   "cell_type": "markdown",
   "metadata": {
    "id": "OAkgUihmDfls"
   },
   "source": [
    "### 5.1 Scoring on the unseen test set \n",
    "rubric={points:6}\n",
    "\n",
    "**Your tasks:**\n",
    "\n",
    "1. Train the best performing model on the entire training set. {points:2} \n",
    "2. Report the results of this model on `X_test`. Hint: Categorical features may be different in training set and test set. So, when you make your preprocessor, you need to make argment \"handle_unknown='ignore'\" {points: 2}\n",
    "3. Are the cross-validation results and test results consistent? {points:2} "
   ]
  },
  {
   "cell_type": "code",
   "execution_count": 34,
   "metadata": {
    "id": "uMOpVgULqBkJ"
   },
   "outputs": [],
   "source": [
    "from sklearn.metrics import accuracy_score"
   ]
  },
  {
   "cell_type": "code",
   "execution_count": 35,
   "metadata": {
    "id": "HBBaktA_Dfls"
   },
   "outputs": [
    {
     "data": {
      "text/html": [
       "<style>#sk-container-id-1 {color: black;}#sk-container-id-1 pre{padding: 0;}#sk-container-id-1 div.sk-toggleable {background-color: white;}#sk-container-id-1 label.sk-toggleable__label {cursor: pointer;display: block;width: 100%;margin-bottom: 0;padding: 0.3em;box-sizing: border-box;text-align: center;}#sk-container-id-1 label.sk-toggleable__label-arrow:before {content: \"▸\";float: left;margin-right: 0.25em;color: #696969;}#sk-container-id-1 label.sk-toggleable__label-arrow:hover:before {color: black;}#sk-container-id-1 div.sk-estimator:hover label.sk-toggleable__label-arrow:before {color: black;}#sk-container-id-1 div.sk-toggleable__content {max-height: 0;max-width: 0;overflow: hidden;text-align: left;background-color: #f0f8ff;}#sk-container-id-1 div.sk-toggleable__content pre {margin: 0.2em;color: black;border-radius: 0.25em;background-color: #f0f8ff;}#sk-container-id-1 input.sk-toggleable__control:checked~div.sk-toggleable__content {max-height: 200px;max-width: 100%;overflow: auto;}#sk-container-id-1 input.sk-toggleable__control:checked~label.sk-toggleable__label-arrow:before {content: \"▾\";}#sk-container-id-1 div.sk-estimator input.sk-toggleable__control:checked~label.sk-toggleable__label {background-color: #d4ebff;}#sk-container-id-1 div.sk-label input.sk-toggleable__control:checked~label.sk-toggleable__label {background-color: #d4ebff;}#sk-container-id-1 input.sk-hidden--visually {border: 0;clip: rect(1px 1px 1px 1px);clip: rect(1px, 1px, 1px, 1px);height: 1px;margin: -1px;overflow: hidden;padding: 0;position: absolute;width: 1px;}#sk-container-id-1 div.sk-estimator {font-family: monospace;background-color: #f0f8ff;border: 1px dotted black;border-radius: 0.25em;box-sizing: border-box;margin-bottom: 0.5em;}#sk-container-id-1 div.sk-estimator:hover {background-color: #d4ebff;}#sk-container-id-1 div.sk-parallel-item::after {content: \"\";width: 100%;border-bottom: 1px solid gray;flex-grow: 1;}#sk-container-id-1 div.sk-label:hover label.sk-toggleable__label {background-color: #d4ebff;}#sk-container-id-1 div.sk-serial::before {content: \"\";position: absolute;border-left: 1px solid gray;box-sizing: border-box;top: 0;bottom: 0;left: 50%;z-index: 0;}#sk-container-id-1 div.sk-serial {display: flex;flex-direction: column;align-items: center;background-color: white;padding-right: 0.2em;padding-left: 0.2em;position: relative;}#sk-container-id-1 div.sk-item {position: relative;z-index: 1;}#sk-container-id-1 div.sk-parallel {display: flex;align-items: stretch;justify-content: center;background-color: white;position: relative;}#sk-container-id-1 div.sk-item::before, #sk-container-id-1 div.sk-parallel-item::before {content: \"\";position: absolute;border-left: 1px solid gray;box-sizing: border-box;top: 0;bottom: 0;left: 50%;z-index: -1;}#sk-container-id-1 div.sk-parallel-item {display: flex;flex-direction: column;z-index: 1;position: relative;background-color: white;}#sk-container-id-1 div.sk-parallel-item:first-child::after {align-self: flex-end;width: 50%;}#sk-container-id-1 div.sk-parallel-item:last-child::after {align-self: flex-start;width: 50%;}#sk-container-id-1 div.sk-parallel-item:only-child::after {width: 0;}#sk-container-id-1 div.sk-dashed-wrapped {border: 1px dashed gray;margin: 0 0.4em 0.5em 0.4em;box-sizing: border-box;padding-bottom: 0.4em;background-color: white;}#sk-container-id-1 div.sk-label label {font-family: monospace;font-weight: bold;display: inline-block;line-height: 1.2em;}#sk-container-id-1 div.sk-label-container {text-align: center;}#sk-container-id-1 div.sk-container {/* jupyter's `normalize.less` sets `[hidden] { display: none; }` but bootstrap.min.css set `[hidden] { display: none !important; }` so we also need the `!important` here to be able to override the default hidden behavior on the sphinx rendered scikit-learn.org. See: https://github.com/scikit-learn/scikit-learn/issues/21755 */display: inline-block !important;position: relative;}#sk-container-id-1 div.sk-text-repr-fallback {display: none;}</style><div id=\"sk-container-id-1\" class=\"sk-top-container\"><div class=\"sk-text-repr-fallback\"><pre>Pipeline(steps=[(&#x27;columntransformer&#x27;,\n",
       "                 ColumnTransformer(transformers=[(&#x27;pipeline-1&#x27;,\n",
       "                                                  Pipeline(steps=[(&#x27;standardscaler&#x27;,\n",
       "                                                                   StandardScaler())]),\n",
       "                                                  [&#x27;age&#x27;, &#x27;fnlwgt&#x27;,\n",
       "                                                   &#x27;education.num&#x27;,\n",
       "                                                   &#x27;capital.gain&#x27;,\n",
       "                                                   &#x27;capital.loss&#x27;,\n",
       "                                                   &#x27;hours.per.week&#x27;]),\n",
       "                                                 (&#x27;pipeline-2&#x27;,\n",
       "                                                  Pipeline(steps=[(&#x27;simpleimputer&#x27;,\n",
       "                                                                   SimpleImputer(strategy=&#x27;most_frequent&#x27;)),\n",
       "                                                                  (&#x27;onehotencoder&#x27;,\n",
       "                                                                   OneHotEncoder(handle_unknown=&#x27;ignore&#x27;))]),\n",
       "                                                  [&#x27;workclass&#x27;,\n",
       "                                                   &#x27;marital.status&#x27;,\n",
       "                                                   &#x27;occupation&#x27;, &#x27;relationship&#x27;,\n",
       "                                                   &#x27;native.country&#x27;]),\n",
       "                                                 (&#x27;pipeline-3&#x27;,\n",
       "                                                  Pipeline(steps=[(&#x27;ordinalencoder&#x27;,\n",
       "                                                                   OrdinalEncoder())]),\n",
       "                                                  [&#x27;sex&#x27;])])),\n",
       "                (&#x27;svc&#x27;, SVC())])</pre><b>In a Jupyter environment, please rerun this cell to show the HTML representation or trust the notebook. <br />On GitHub, the HTML representation is unable to render, please try loading this page with nbviewer.org.</b></div><div class=\"sk-container\" hidden><div class=\"sk-item sk-dashed-wrapped\"><div class=\"sk-label-container\"><div class=\"sk-label sk-toggleable\"><input class=\"sk-toggleable__control sk-hidden--visually\" id=\"sk-estimator-id-1\" type=\"checkbox\" ><label for=\"sk-estimator-id-1\" class=\"sk-toggleable__label sk-toggleable__label-arrow\">Pipeline</label><div class=\"sk-toggleable__content\"><pre>Pipeline(steps=[(&#x27;columntransformer&#x27;,\n",
       "                 ColumnTransformer(transformers=[(&#x27;pipeline-1&#x27;,\n",
       "                                                  Pipeline(steps=[(&#x27;standardscaler&#x27;,\n",
       "                                                                   StandardScaler())]),\n",
       "                                                  [&#x27;age&#x27;, &#x27;fnlwgt&#x27;,\n",
       "                                                   &#x27;education.num&#x27;,\n",
       "                                                   &#x27;capital.gain&#x27;,\n",
       "                                                   &#x27;capital.loss&#x27;,\n",
       "                                                   &#x27;hours.per.week&#x27;]),\n",
       "                                                 (&#x27;pipeline-2&#x27;,\n",
       "                                                  Pipeline(steps=[(&#x27;simpleimputer&#x27;,\n",
       "                                                                   SimpleImputer(strategy=&#x27;most_frequent&#x27;)),\n",
       "                                                                  (&#x27;onehotencoder&#x27;,\n",
       "                                                                   OneHotEncoder(handle_unknown=&#x27;ignore&#x27;))]),\n",
       "                                                  [&#x27;workclass&#x27;,\n",
       "                                                   &#x27;marital.status&#x27;,\n",
       "                                                   &#x27;occupation&#x27;, &#x27;relationship&#x27;,\n",
       "                                                   &#x27;native.country&#x27;]),\n",
       "                                                 (&#x27;pipeline-3&#x27;,\n",
       "                                                  Pipeline(steps=[(&#x27;ordinalencoder&#x27;,\n",
       "                                                                   OrdinalEncoder())]),\n",
       "                                                  [&#x27;sex&#x27;])])),\n",
       "                (&#x27;svc&#x27;, SVC())])</pre></div></div></div><div class=\"sk-serial\"><div class=\"sk-item sk-dashed-wrapped\"><div class=\"sk-label-container\"><div class=\"sk-label sk-toggleable\"><input class=\"sk-toggleable__control sk-hidden--visually\" id=\"sk-estimator-id-2\" type=\"checkbox\" ><label for=\"sk-estimator-id-2\" class=\"sk-toggleable__label sk-toggleable__label-arrow\">columntransformer: ColumnTransformer</label><div class=\"sk-toggleable__content\"><pre>ColumnTransformer(transformers=[(&#x27;pipeline-1&#x27;,\n",
       "                                 Pipeline(steps=[(&#x27;standardscaler&#x27;,\n",
       "                                                  StandardScaler())]),\n",
       "                                 [&#x27;age&#x27;, &#x27;fnlwgt&#x27;, &#x27;education.num&#x27;,\n",
       "                                  &#x27;capital.gain&#x27;, &#x27;capital.loss&#x27;,\n",
       "                                  &#x27;hours.per.week&#x27;]),\n",
       "                                (&#x27;pipeline-2&#x27;,\n",
       "                                 Pipeline(steps=[(&#x27;simpleimputer&#x27;,\n",
       "                                                  SimpleImputer(strategy=&#x27;most_frequent&#x27;)),\n",
       "                                                 (&#x27;onehotencoder&#x27;,\n",
       "                                                  OneHotEncoder(handle_unknown=&#x27;ignore&#x27;))]),\n",
       "                                 [&#x27;workclass&#x27;, &#x27;marital.status&#x27;, &#x27;occupation&#x27;,\n",
       "                                  &#x27;relationship&#x27;, &#x27;native.country&#x27;]),\n",
       "                                (&#x27;pipeline-3&#x27;,\n",
       "                                 Pipeline(steps=[(&#x27;ordinalencoder&#x27;,\n",
       "                                                  OrdinalEncoder())]),\n",
       "                                 [&#x27;sex&#x27;])])</pre></div></div></div><div class=\"sk-parallel\"><div class=\"sk-parallel-item\"><div class=\"sk-item\"><div class=\"sk-label-container\"><div class=\"sk-label sk-toggleable\"><input class=\"sk-toggleable__control sk-hidden--visually\" id=\"sk-estimator-id-3\" type=\"checkbox\" ><label for=\"sk-estimator-id-3\" class=\"sk-toggleable__label sk-toggleable__label-arrow\">pipeline-1</label><div class=\"sk-toggleable__content\"><pre>[&#x27;age&#x27;, &#x27;fnlwgt&#x27;, &#x27;education.num&#x27;, &#x27;capital.gain&#x27;, &#x27;capital.loss&#x27;, &#x27;hours.per.week&#x27;]</pre></div></div></div><div class=\"sk-serial\"><div class=\"sk-item\"><div class=\"sk-serial\"><div class=\"sk-item\"><div class=\"sk-estimator sk-toggleable\"><input class=\"sk-toggleable__control sk-hidden--visually\" id=\"sk-estimator-id-4\" type=\"checkbox\" ><label for=\"sk-estimator-id-4\" class=\"sk-toggleable__label sk-toggleable__label-arrow\">StandardScaler</label><div class=\"sk-toggleable__content\"><pre>StandardScaler()</pre></div></div></div></div></div></div></div></div><div class=\"sk-parallel-item\"><div class=\"sk-item\"><div class=\"sk-label-container\"><div class=\"sk-label sk-toggleable\"><input class=\"sk-toggleable__control sk-hidden--visually\" id=\"sk-estimator-id-5\" type=\"checkbox\" ><label for=\"sk-estimator-id-5\" class=\"sk-toggleable__label sk-toggleable__label-arrow\">pipeline-2</label><div class=\"sk-toggleable__content\"><pre>[&#x27;workclass&#x27;, &#x27;marital.status&#x27;, &#x27;occupation&#x27;, &#x27;relationship&#x27;, &#x27;native.country&#x27;]</pre></div></div></div><div class=\"sk-serial\"><div class=\"sk-item\"><div class=\"sk-serial\"><div class=\"sk-item\"><div class=\"sk-estimator sk-toggleable\"><input class=\"sk-toggleable__control sk-hidden--visually\" id=\"sk-estimator-id-6\" type=\"checkbox\" ><label for=\"sk-estimator-id-6\" class=\"sk-toggleable__label sk-toggleable__label-arrow\">SimpleImputer</label><div class=\"sk-toggleable__content\"><pre>SimpleImputer(strategy=&#x27;most_frequent&#x27;)</pre></div></div></div><div class=\"sk-item\"><div class=\"sk-estimator sk-toggleable\"><input class=\"sk-toggleable__control sk-hidden--visually\" id=\"sk-estimator-id-7\" type=\"checkbox\" ><label for=\"sk-estimator-id-7\" class=\"sk-toggleable__label sk-toggleable__label-arrow\">OneHotEncoder</label><div class=\"sk-toggleable__content\"><pre>OneHotEncoder(handle_unknown=&#x27;ignore&#x27;)</pre></div></div></div></div></div></div></div></div><div class=\"sk-parallel-item\"><div class=\"sk-item\"><div class=\"sk-label-container\"><div class=\"sk-label sk-toggleable\"><input class=\"sk-toggleable__control sk-hidden--visually\" id=\"sk-estimator-id-8\" type=\"checkbox\" ><label for=\"sk-estimator-id-8\" class=\"sk-toggleable__label sk-toggleable__label-arrow\">pipeline-3</label><div class=\"sk-toggleable__content\"><pre>[&#x27;sex&#x27;]</pre></div></div></div><div class=\"sk-serial\"><div class=\"sk-item\"><div class=\"sk-serial\"><div class=\"sk-item\"><div class=\"sk-estimator sk-toggleable\"><input class=\"sk-toggleable__control sk-hidden--visually\" id=\"sk-estimator-id-9\" type=\"checkbox\" ><label for=\"sk-estimator-id-9\" class=\"sk-toggleable__label sk-toggleable__label-arrow\">OrdinalEncoder</label><div class=\"sk-toggleable__content\"><pre>OrdinalEncoder()</pre></div></div></div></div></div></div></div></div></div></div><div class=\"sk-item\"><div class=\"sk-estimator sk-toggleable\"><input class=\"sk-toggleable__control sk-hidden--visually\" id=\"sk-estimator-id-10\" type=\"checkbox\" ><label for=\"sk-estimator-id-10\" class=\"sk-toggleable__label sk-toggleable__label-arrow\">SVC</label><div class=\"sk-toggleable__content\"><pre>SVC()</pre></div></div></div></div></div></div></div>"
      ],
      "text/plain": [
       "Pipeline(steps=[('columntransformer',\n",
       "                 ColumnTransformer(transformers=[('pipeline-1',\n",
       "                                                  Pipeline(steps=[('standardscaler',\n",
       "                                                                   StandardScaler())]),\n",
       "                                                  ['age', 'fnlwgt',\n",
       "                                                   'education.num',\n",
       "                                                   'capital.gain',\n",
       "                                                   'capital.loss',\n",
       "                                                   'hours.per.week']),\n",
       "                                                 ('pipeline-2',\n",
       "                                                  Pipeline(steps=[('simpleimputer',\n",
       "                                                                   SimpleImputer(strategy='most_frequent')),\n",
       "                                                                  ('onehotencoder',\n",
       "                                                                   OneHotEncoder(handle_unknown='ignore'))]),\n",
       "                                                  ['workclass',\n",
       "                                                   'marital.status',\n",
       "                                                   'occupation', 'relationship',\n",
       "                                                   'native.country']),\n",
       "                                                 ('pipeline-3',\n",
       "                                                  Pipeline(steps=[('ordinalencoder',\n",
       "                                                                   OrdinalEncoder())]),\n",
       "                                                  ['sex'])])),\n",
       "                ('svc', SVC())])"
      ]
     },
     "execution_count": 35,
     "metadata": {},
     "output_type": "execute_result"
    }
   ],
   "source": [
    "# Task 1:\n",
    "svc_best = SVC(C=1.0)\n",
    "pipeline_best = make_pipeline(preprocessor, svc_best)\n",
    "pipeline_best.fit(X_train, y_train)"
   ]
  },
  {
   "cell_type": "code",
   "execution_count": 36,
   "metadata": {
    "id": "VFaJr5tD77Pw"
   },
   "outputs": [
    {
     "name": "stdout",
     "output_type": "stream",
     "text": [
      "Accuracy on the test set: 0.8543\n"
     ]
    }
   ],
   "source": [
    "# Task 2:\n",
    "y_pred_test = pipeline_best.predict(X_test)\n",
    "test_accuracy = accuracy_score(y_test, y_pred_test)\n",
    "print(f\"Accuracy on the test set: {test_accuracy:.4f}\")"
   ]
  },
  {
   "cell_type": "code",
   "execution_count": 37,
   "metadata": {
    "id": "2cMGRSvZp9_s"
   },
   "outputs": [],
   "source": [
    "# Task 3:\n",
    "# Answer: the cross-validation results awere consistent between the two tests. Both round to 84.5% which means that they are consistent. "
   ]
  },
  {
   "cell_type": "markdown",
   "metadata": {
    "id": "H9DHCgy7Dfls"
   },
   "source": [
    "## Submission instructions \n",
    "\n",
    "**PLEASE READ:** When you are ready to submit your assignment do the following:\n",
    "\n",
    "1. Run all cells in your notebook to make sure there are no errors by doing `Kernel -> Restart Kernel and Clear All Outputs` and then `Run -> Run All Cells`.\n",
    "2. Notebooks with cell execution numbers out of order will have marks deducted. Notebooks without the output displayed may not be graded at all (because we need to see the output in order to grade your work).\n",
    "3. Please keep your notebook clean and delete any throwaway code."
   ]
  }
 ],
 "metadata": {
  "celltoolbar": "Create Assignment",
  "colab": {
   "collapsed_sections": [],
   "provenance": []
  },
  "kernelspec": {
   "display_name": "Python 3 (ipykernel)",
   "language": "python",
   "name": "python3"
  },
  "language_info": {
   "codemirror_mode": {
    "name": "ipython",
    "version": 3
   },
   "file_extension": ".py",
   "mimetype": "text/x-python",
   "name": "python",
   "nbconvert_exporter": "python",
   "pygments_lexer": "ipython3",
   "version": "3.11.4"
  },
  "vscode": {
   "interpreter": {
    "hash": "74864006475560d55db2f16790ed02bd14eca518a5bb693f0e32a0ca4b797964"
   }
  }
 },
 "nbformat": 4,
 "nbformat_minor": 1
}
